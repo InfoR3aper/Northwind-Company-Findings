{
 "cells": [
  {
   "cell_type": "markdown",
   "metadata": {
    "toc": true
   },
   "source": [
    "<h1>Table of Contents<span class=\"tocSkip\"></span></h1>\n",
    "<div class=\"toc\"><ul class=\"toc-item\"><li><span><a href=\"#Module-3:-Final-Project-Submission\" data-toc-modified-id=\"Module-3:-Final-Project-Submission-1\"><span class=\"toc-item-num\">1&nbsp;&nbsp;</span>Module 3: Final Project Submission</a></span></li><li><span><a href=\"#Northwind-Company-Findings\" data-toc-modified-id=\"Northwind-Company-Findings-2\"><span class=\"toc-item-num\">2&nbsp;&nbsp;</span>Northwind Company Findings</a></span><ul class=\"toc-item\"><li><span><a href=\"#Business-Case\" data-toc-modified-id=\"Business-Case-2.1\"><span class=\"toc-item-num\">2.1&nbsp;&nbsp;</span>Business Case</a></span></li><li><span><a href=\"#&quot;Data-Mining&quot;\" data-toc-modified-id=\"&quot;Data-Mining&quot;-2.2\"><span class=\"toc-item-num\">2.2&nbsp;&nbsp;</span>\"Data Mining\"</a></span></li><li><span><a href=\"#Hypothesis-Test-#1\" data-toc-modified-id=\"Hypothesis-Test-#1-2.3\"><span class=\"toc-item-num\">2.3&nbsp;&nbsp;</span>Hypothesis Test #1</a></span><ul class=\"toc-item\"><li><span><a href=\"#Set-up-null-and-alternative-hypotheses\" data-toc-modified-id=\"Set-up-null-and-alternative-hypotheses-2.3.1\"><span class=\"toc-item-num\">2.3.1&nbsp;&nbsp;</span>Set up null and alternative hypotheses</a></span></li><li><span><a href=\"#Clean-and-Explore-Data\" data-toc-modified-id=\"Clean-and-Explore-Data-2.3.2\"><span class=\"toc-item-num\">2.3.2&nbsp;&nbsp;</span>Clean and Explore Data</a></span></li><li><span><a href=\"#Check-t-test-Assumptions\" data-toc-modified-id=\"Check-t-test-Assumptions-2.3.3\"><span class=\"toc-item-num\">2.3.3&nbsp;&nbsp;</span>Check t-test Assumptions</a></span><ul class=\"toc-item\"><li><span><a href=\"#Check-Normality\" data-toc-modified-id=\"Check-Normality-2.3.3.1\"><span class=\"toc-item-num\">2.3.3.1&nbsp;&nbsp;</span>Check Normality</a></span></li><li><span><a href=\"#Check-randomness\" data-toc-modified-id=\"Check-randomness-2.3.3.2\"><span class=\"toc-item-num\">2.3.3.2&nbsp;&nbsp;</span>Check randomness</a></span></li><li><span><a href=\"#Check-independence-of-observations\" data-toc-modified-id=\"Check-independence-of-observations-2.3.3.3\"><span class=\"toc-item-num\">2.3.3.3&nbsp;&nbsp;</span>Check independence of observations</a></span></li></ul></li><li><span><a href=\"#Perform-t-test\" data-toc-modified-id=\"Perform-t-test-2.3.4\"><span class=\"toc-item-num\">2.3.4&nbsp;&nbsp;</span>Perform t-test</a></span></li><li><span><a href=\"#Calculate-Effect-Size-and-Power\" data-toc-modified-id=\"Calculate-Effect-Size-and-Power-2.3.5\"><span class=\"toc-item-num\">2.3.5&nbsp;&nbsp;</span>Calculate Effect Size and Power</a></span></li><li><span><a href=\"#Determine-which-levels-of-discount-are-statistically-significant\" data-toc-modified-id=\"Determine-which-levels-of-discount-are-statistically-significant-2.3.6\"><span class=\"toc-item-num\">2.3.6&nbsp;&nbsp;</span>Determine which levels of discount are statistically significant</a></span></li></ul></li><li><span><a href=\"#Hypothesis-Test-#2\" data-toc-modified-id=\"Hypothesis-Test-#2-2.4\"><span class=\"toc-item-num\">2.4&nbsp;&nbsp;</span>Hypothesis Test #2</a></span><ul class=\"toc-item\"><li><span><a href=\"#Set-up-null-and-alternative-hypotheses\" data-toc-modified-id=\"Set-up-null-and-alternative-hypotheses-2.4.1\"><span class=\"toc-item-num\">2.4.1&nbsp;&nbsp;</span>Set up null and alternative hypotheses</a></span></li><li><span><a href=\"#Clean-and-Explore-Data\" data-toc-modified-id=\"Clean-and-Explore-Data-2.4.2\"><span class=\"toc-item-num\">2.4.2&nbsp;&nbsp;</span>Clean and Explore Data</a></span></li><li><span><a href=\"#Check-ANOVA-Assumptions\" data-toc-modified-id=\"Check-ANOVA-Assumptions-2.4.3\"><span class=\"toc-item-num\">2.4.3&nbsp;&nbsp;</span>Check ANOVA Assumptions</a></span><ul class=\"toc-item\"><li><span><a href=\"#Check-Normality\" data-toc-modified-id=\"Check-Normality-2.4.3.1\"><span class=\"toc-item-num\">2.4.3.1&nbsp;&nbsp;</span>Check Normality</a></span></li><li><span><a href=\"#Check-Equality-of-Variances\" data-toc-modified-id=\"Check-Equality-of-Variances-2.4.3.2\"><span class=\"toc-item-num\">2.4.3.2&nbsp;&nbsp;</span>Check Equality of Variances</a></span></li><li><span><a href=\"#Check-Independence\" data-toc-modified-id=\"Check-Independence-2.4.3.3\"><span class=\"toc-item-num\">2.4.3.3&nbsp;&nbsp;</span>Check Independence</a></span></li></ul></li><li><span><a href=\"#Perform-ANOVA-Test\" data-toc-modified-id=\"Perform-ANOVA-Test-2.4.4\"><span class=\"toc-item-num\">2.4.4&nbsp;&nbsp;</span>Perform ANOVA Test</a></span></li></ul></li><li><span><a href=\"#Hypothesis-Test-#3\" data-toc-modified-id=\"Hypothesis-Test-#3-2.5\"><span class=\"toc-item-num\">2.5&nbsp;&nbsp;</span>Hypothesis Test #3</a></span><ul class=\"toc-item\"><li><span><a href=\"#Set-up-null-and-alternative-hypotheses\" data-toc-modified-id=\"Set-up-null-and-alternative-hypotheses-2.5.1\"><span class=\"toc-item-num\">2.5.1&nbsp;&nbsp;</span>Set up null and alternative hypotheses</a></span></li><li><span><a href=\"#Clean-and-Explore-Data\" data-toc-modified-id=\"Clean-and-Explore-Data-2.5.2\"><span class=\"toc-item-num\">2.5.2&nbsp;&nbsp;</span>Clean and Explore Data</a></span></li><li><span><a href=\"#Check-ANOVA-Test-Assumptions\" data-toc-modified-id=\"Check-ANOVA-Test-Assumptions-2.5.3\"><span class=\"toc-item-num\">2.5.3&nbsp;&nbsp;</span>Check ANOVA Test Assumptions</a></span><ul class=\"toc-item\"><li><span><a href=\"#Check-Normality\" data-toc-modified-id=\"Check-Normality-2.5.3.1\"><span class=\"toc-item-num\">2.5.3.1&nbsp;&nbsp;</span>Check Normality</a></span></li><li><span><a href=\"#Check-Equality-of-Variance\" data-toc-modified-id=\"Check-Equality-of-Variance-2.5.3.2\"><span class=\"toc-item-num\">2.5.3.2&nbsp;&nbsp;</span>Check Equality of Variance</a></span></li><li><span><a href=\"#Check-Independence\" data-toc-modified-id=\"Check-Independence-2.5.3.3\"><span class=\"toc-item-num\">2.5.3.3&nbsp;&nbsp;</span>Check Independence</a></span></li></ul></li><li><span><a href=\"#Perform-ANOVA-Test\" data-toc-modified-id=\"Perform-ANOVA-Test-2.5.4\"><span class=\"toc-item-num\">2.5.4&nbsp;&nbsp;</span>Perform ANOVA Test</a></span></li></ul></li><li><span><a href=\"#Hypothesis-Test-#4\" data-toc-modified-id=\"Hypothesis-Test-#4-2.6\"><span class=\"toc-item-num\">2.6&nbsp;&nbsp;</span>Hypothesis Test #4</a></span><ul class=\"toc-item\"><li><span><a href=\"#Set-up-null-and-alternative-hypothesis\" data-toc-modified-id=\"Set-up-null-and-alternative-hypothesis-2.6.1\"><span class=\"toc-item-num\">2.6.1&nbsp;&nbsp;</span>Set up null and alternative hypothesis</a></span></li><li><span><a href=\"#Clean-and-Explore-Data\" data-toc-modified-id=\"Clean-and-Explore-Data-2.6.2\"><span class=\"toc-item-num\">2.6.2&nbsp;&nbsp;</span>Clean and Explore Data</a></span></li><li><span><a href=\"#Check-Welch's-t-test-Assumptions\" data-toc-modified-id=\"Check-Welch's-t-test-Assumptions-2.6.3\"><span class=\"toc-item-num\">2.6.3&nbsp;&nbsp;</span>Check Welch's t-test Assumptions</a></span><ul class=\"toc-item\"><li><span><a href=\"#Check-Normality\" data-toc-modified-id=\"Check-Normality-2.6.3.1\"><span class=\"toc-item-num\">2.6.3.1&nbsp;&nbsp;</span>Check Normality</a></span></li><li><span><a href=\"#Check-Randomness\" data-toc-modified-id=\"Check-Randomness-2.6.3.2\"><span class=\"toc-item-num\">2.6.3.2&nbsp;&nbsp;</span>Check Randomness</a></span></li><li><span><a href=\"#Check-Independence\" data-toc-modified-id=\"Check-Independence-2.6.3.3\"><span class=\"toc-item-num\">2.6.3.3&nbsp;&nbsp;</span>Check Independence</a></span></li></ul></li><li><span><a href=\"#Perform-Welch's-t-test\" data-toc-modified-id=\"Perform-Welch's-t-test-2.6.4\"><span class=\"toc-item-num\">2.6.4&nbsp;&nbsp;</span>Perform Welch's t-test</a></span></li><li><span><a href=\"#Calculate-Effect-Size-and-Power\" data-toc-modified-id=\"Calculate-Effect-Size-and-Power-2.6.5\"><span class=\"toc-item-num\">2.6.5&nbsp;&nbsp;</span>Calculate Effect Size and Power</a></span></li></ul></li></ul></li></ul></div>"
   ]
  },
  {
   "cell_type": "markdown",
   "metadata": {
    "heading_collapsed": true
   },
   "source": [
    "# Module 3: Final Project Submission\n",
    "\n",
    "Please fill out:\n",
    "* Student name: Lauren Aronson\n",
    "* Student pace: Full Time\n",
    "* Scheduled project review date/time: Monday 10/16 @ 10:00AM MT\n",
    "* Instructor name: Victor Geislinger\n",
    "* Blog post URL: https://laurenliz22.github.io/understanding_the_steps_for_hypothesis_testing"
   ]
  },
  {
   "cell_type": "markdown",
   "metadata": {},
   "source": [
    "# Northwind Company Findings"
   ]
  },
  {
   "cell_type": "markdown",
   "metadata": {
    "heading_collapsed": true
   },
   "source": [
    "## Business Case\n",
    "Business case for the Northwind Company"
   ]
  },
  {
   "cell_type": "markdown",
   "metadata": {
    "hidden": true
   },
   "source": [
    "Northwind Company would like me to look into their provided database to determine possible insights and trends in order to help them grow their business, and focus their efforts in the most efficient and effective manner.  Looking through the provided database there are 4 questions in particular that are important for Northwind Company to have further knowledge on:\n",
    "\n",
    "1) Does the discount amount have a statistically significant effect on the quantity of a product in an order?  If so, at what level(s) of discount?\n",
    "\n",
    "2) Does the region of Northwind's suppliers have a statistically significant effect on the unit price of products? \n",
    "\n",
    "3) Does the region customers live in have a statistically significant effect on the amount of money they spend on their orders?\n",
    "\n",
    "4) Is the quantity sold for Produce products and Dairy products statistically different? "
   ]
  },
  {
   "cell_type": "markdown",
   "metadata": {
    "hidden": true
   },
   "source": [
    "Please note, throughout all hypothesis tests I will use an alpha value of 0.05, giving a 95% confidence level"
   ]
  },
  {
   "cell_type": "markdown",
   "metadata": {
    "heading_collapsed": true
   },
   "source": [
    "## \"Data Mining\"\n",
    "Import Libraries & View Initial Dataset"
   ]
  },
  {
   "cell_type": "code",
   "execution_count": 1,
   "metadata": {
    "ExecuteTime": {
     "end_time": "2019-10-12T21:25:04.657302Z",
     "start_time": "2019-10-12T21:25:03.405135Z"
    },
    "hidden": true
   },
   "outputs": [],
   "source": [
    "#import libraries\n",
    "import pandas as pd\n",
    "import numpy as np\n",
    "import sqlite3\n",
    "import matplotlib.pyplot as plt\n",
    "import seaborn as sns\n",
    "import statsmodels.api as sm\n",
    "import scipy.stats as stat\n",
    "from statsmodels.formula.api import ols\n",
    "%matplotlib inline\n",
    "\n",
    "from statsmodels.stats.power import TTestIndPower, TTestPower\n",
    "power_analysis = TTestIndPower()"
   ]
  },
  {
   "cell_type": "code",
   "execution_count": 2,
   "metadata": {
    "ExecuteTime": {
     "end_time": "2019-10-12T21:25:04.665636Z",
     "start_time": "2019-10-12T21:25:04.660211Z"
    },
    "hidden": true
   },
   "outputs": [],
   "source": [
    "#connecting to the sqlite db using sqlite3\n",
    "conn = sqlite3.connect('Northwind_small.sqlite')\n",
    "cursor = conn.cursor()"
   ]
  },
  {
   "cell_type": "code",
   "execution_count": 3,
   "metadata": {
    "ExecuteTime": {
     "end_time": "2019-10-12T21:25:04.678163Z",
     "start_time": "2019-10-12T21:25:04.668174Z"
    },
    "hidden": true
   },
   "outputs": [
    {
     "data": {
      "text/plain": [
       "['Employee',\n",
       " 'Category',\n",
       " 'Customer',\n",
       " 'Shipper',\n",
       " 'Supplier',\n",
       " 'Order',\n",
       " 'Product',\n",
       " 'OrderDetail',\n",
       " 'CustomerCustomerDemo',\n",
       " 'CustomerDemographic',\n",
       " 'Region',\n",
       " 'Territory',\n",
       " 'EmployeeTerritory']"
      ]
     },
     "execution_count": 3,
     "metadata": {},
     "output_type": "execute_result"
    }
   ],
   "source": [
    "#list tables in database \n",
    "query = \"\"\"SELECT name \n",
    "           FROM sqlite_master \n",
    "           WHERE type = 'table';\"\"\"\n",
    "res = cursor.execute(query).fetchall()\n",
    "table_names = [r[0] for r in res]\n",
    "table_names"
   ]
  },
  {
   "cell_type": "markdown",
   "metadata": {
    "hidden": true
   },
   "source": [
    "All the tables in the provided schema match the database!"
   ]
  },
  {
   "cell_type": "code",
   "execution_count": 4,
   "metadata": {
    "ExecuteTime": {
     "end_time": "2019-10-12T21:25:04.685153Z",
     "start_time": "2019-10-12T21:25:04.680117Z"
    },
    "hidden": true
   },
   "outputs": [],
   "source": [
    "#return full result with columns\n",
    "def sql_with_cols(query, cursor=cursor):\n",
    "    result = cursor.execute(query).fetchall()\n",
    "    cols = tuple([description[0] for description in cursor.description])\n",
    "    full_result = [cols] + result[:]\n",
    "    return full_result"
   ]
  },
  {
   "cell_type": "code",
   "execution_count": 5,
   "metadata": {
    "ExecuteTime": {
     "end_time": "2019-10-12T21:25:04.691673Z",
     "start_time": "2019-10-12T21:25:04.687665Z"
    },
    "hidden": true
   },
   "outputs": [],
   "source": [
    "#put results into dataframe\n",
    "def sql_to_df(query, cursor = cursor):\n",
    "    results = sql_with_cols(query, cursor)\n",
    "    return pd.DataFrame(columns=results[0], data=results[1:])"
   ]
  },
  {
   "cell_type": "code",
   "execution_count": 6,
   "metadata": {
    "ExecuteTime": {
     "end_time": "2019-10-12T21:25:04.720867Z",
     "start_time": "2019-10-12T21:25:04.694036Z"
    },
    "hidden": true
   },
   "outputs": [
    {
     "name": "stdout",
     "output_type": "stream",
     "text": [
      "CustomerDemograpic Table: Empty DataFrame\n",
      "Columns: [Id, CustomerDesc]\n",
      "Index: []\n",
      "\n",
      "\n",
      "CustomerDemoDemo Table: Empty DataFrame\n",
      "Columns: [Id, CustomerTypeId]\n",
      "Index: []\n"
     ]
    }
   ],
   "source": [
    "#There is no data in CustomerDemographic or CustomerCustomerDemo\n",
    "#Therefore, these tables will be ignored for our research\n",
    "df_CustomerDemographic = sql_to_df('SELECT * FROM CustomerDemographic')\n",
    "df_CustomerCustomerDemo = sql_to_df('SELECT * FROM CustomerCustomerDemo')\n",
    "print('CustomerDemograpic Table:', df_CustomerDemographic)\n",
    "print('\\n')\n",
    "print('CustomerDemoDemo Table:', df_CustomerCustomerDemo)"
   ]
  },
  {
   "cell_type": "markdown",
   "metadata": {
    "heading_collapsed": true
   },
   "source": [
    "## Hypothesis Test #1\n",
    "Does the discount amount have a statistically significant effect on the quantity of a product in an order?  If so, at what level(s) of discount?"
   ]
  },
  {
   "cell_type": "markdown",
   "metadata": {
    "hidden": true
   },
   "source": [
    "I will use the Two Sample t-test for a control group (no discount applied) and an experimental group (discount applied) to answer this question."
   ]
  },
  {
   "cell_type": "markdown",
   "metadata": {
    "heading_collapsed": true,
    "hidden": true
   },
   "source": [
    "### Set up null and alternative hypotheses"
   ]
  },
  {
   "cell_type": "markdown",
   "metadata": {
    "hidden": true
   },
   "source": [
    " - H0 = the mean quantity of a product in an order is the same for those customers who received a discount (experimental group) as for those customers who did not receive a discount (control group).\n",
    " - H1 = the mean quantity of a product in an order is larger for those customers who received a discount (experimental group) vs. for those customers who did not receive a discount (control group)."
   ]
  },
  {
   "cell_type": "markdown",
   "metadata": {
    "heading_collapsed": true,
    "hidden": true
   },
   "source": [
    "### Clean and Explore Data"
   ]
  },
  {
   "cell_type": "code",
   "execution_count": 7,
   "metadata": {
    "ExecuteTime": {
     "end_time": "2019-10-12T21:25:05.953845Z",
     "start_time": "2019-10-12T21:25:05.935149Z"
    },
    "hidden": true
   },
   "outputs": [
    {
     "name": "stdout",
     "output_type": "stream",
     "text": [
      "2155\n"
     ]
    },
    {
     "data": {
      "text/html": [
       "<div>\n",
       "<style scoped>\n",
       "    .dataframe tbody tr th:only-of-type {\n",
       "        vertical-align: middle;\n",
       "    }\n",
       "\n",
       "    .dataframe tbody tr th {\n",
       "        vertical-align: top;\n",
       "    }\n",
       "\n",
       "    .dataframe thead th {\n",
       "        text-align: right;\n",
       "    }\n",
       "</style>\n",
       "<table border=\"1\" class=\"dataframe\">\n",
       "  <thead>\n",
       "    <tr style=\"text-align: right;\">\n",
       "      <th></th>\n",
       "      <th>Quantity</th>\n",
       "      <th>Discount</th>\n",
       "    </tr>\n",
       "  </thead>\n",
       "  <tbody>\n",
       "    <tr>\n",
       "      <th>0</th>\n",
       "      <td>12</td>\n",
       "      <td>0.0</td>\n",
       "    </tr>\n",
       "    <tr>\n",
       "      <th>1</th>\n",
       "      <td>10</td>\n",
       "      <td>0.0</td>\n",
       "    </tr>\n",
       "    <tr>\n",
       "      <th>2</th>\n",
       "      <td>5</td>\n",
       "      <td>0.0</td>\n",
       "    </tr>\n",
       "    <tr>\n",
       "      <th>3</th>\n",
       "      <td>9</td>\n",
       "      <td>0.0</td>\n",
       "    </tr>\n",
       "    <tr>\n",
       "      <th>4</th>\n",
       "      <td>40</td>\n",
       "      <td>0.0</td>\n",
       "    </tr>\n",
       "  </tbody>\n",
       "</table>\n",
       "</div>"
      ],
      "text/plain": [
       "   Quantity  Discount\n",
       "0        12       0.0\n",
       "1        10       0.0\n",
       "2         5       0.0\n",
       "3         9       0.0\n",
       "4        40       0.0"
      ]
     },
     "execution_count": 7,
     "metadata": {},
     "output_type": "execute_result"
    }
   ],
   "source": [
    "#The Discount and Quantity can both be found in the OrderDetail table\n",
    "#Set up a DataFrame for this table\n",
    "df_Q1 = sql_to_df('SELECT Quantity, Discount FROM OrderDetail')\n",
    "print(len(df_Q1))\n",
    "df_Q1.head()"
   ]
  },
  {
   "cell_type": "markdown",
   "metadata": {
    "hidden": true
   },
   "source": [
    "- There are 2,155 orders listed in the table"
   ]
  },
  {
   "cell_type": "code",
   "execution_count": 8,
   "metadata": {
    "ExecuteTime": {
     "end_time": "2019-10-12T21:25:06.298358Z",
     "start_time": "2019-10-12T21:25:06.286471Z"
    },
    "hidden": true
   },
   "outputs": [
    {
     "data": {
      "text/plain": [
       "count    2155.000000\n",
       "mean       23.812993\n",
       "std        19.022047\n",
       "min         1.000000\n",
       "25%        10.000000\n",
       "50%        20.000000\n",
       "75%        30.000000\n",
       "max       130.000000\n",
       "Name: Quantity, dtype: float64"
      ]
     },
     "execution_count": 8,
     "metadata": {},
     "output_type": "execute_result"
    }
   ],
   "source": [
    "#look into the stats for Quanity\n",
    "df_Q1['Quantity'].describe()"
   ]
  },
  {
   "cell_type": "markdown",
   "metadata": {
    "hidden": true
   },
   "source": [
    "- The quantity of items ordered ranges from 1-130 items with an average of 23.8 items ordered overall"
   ]
  },
  {
   "cell_type": "code",
   "execution_count": 9,
   "metadata": {
    "ExecuteTime": {
     "end_time": "2019-10-12T21:25:06.657955Z",
     "start_time": "2019-10-12T21:25:06.648561Z"
    },
    "hidden": true
   },
   "outputs": [
    {
     "data": {
      "text/plain": [
       "0.00    1317\n",
       "0.05     185\n",
       "0.10     173\n",
       "0.20     161\n",
       "0.15     157\n",
       "0.25     154\n",
       "0.03       3\n",
       "0.02       2\n",
       "0.01       1\n",
       "0.04       1\n",
       "0.06       1\n",
       "Name: Discount, dtype: int64"
      ]
     },
     "execution_count": 9,
     "metadata": {},
     "output_type": "execute_result"
    }
   ],
   "source": [
    "#review how many orders were discounted at what values\n",
    "df_Q1['Discount'].value_counts()"
   ]
  },
  {
   "cell_type": "markdown",
   "metadata": {
    "hidden": true
   },
   "source": [
    "- 1,317 orders out of 2,147 orders were not discounted.  \n",
    "- Discount values range from 5% - 25% off (discount values of 1%, 2%, 3%, 4% and 6% are outliers and will be removed)"
   ]
  },
  {
   "cell_type": "code",
   "execution_count": 10,
   "metadata": {
    "ExecuteTime": {
     "end_time": "2019-10-12T21:25:07.024014Z",
     "start_time": "2019-10-12T21:25:07.008023Z"
    },
    "code_folding": [],
    "hidden": true
   },
   "outputs": [
    {
     "data": {
      "text/html": [
       "<div>\n",
       "<style scoped>\n",
       "    .dataframe tbody tr th:only-of-type {\n",
       "        vertical-align: middle;\n",
       "    }\n",
       "\n",
       "    .dataframe tbody tr th {\n",
       "        vertical-align: top;\n",
       "    }\n",
       "\n",
       "    .dataframe thead th {\n",
       "        text-align: right;\n",
       "    }\n",
       "</style>\n",
       "<table border=\"1\" class=\"dataframe\">\n",
       "  <thead>\n",
       "    <tr style=\"text-align: right;\">\n",
       "      <th></th>\n",
       "      <th>Quantity</th>\n",
       "    </tr>\n",
       "    <tr>\n",
       "      <th>Discount</th>\n",
       "      <th></th>\n",
       "    </tr>\n",
       "  </thead>\n",
       "  <tbody>\n",
       "    <tr>\n",
       "      <th>0.00</th>\n",
       "      <td>1317</td>\n",
       "    </tr>\n",
       "    <tr>\n",
       "      <th>0.05</th>\n",
       "      <td>185</td>\n",
       "    </tr>\n",
       "    <tr>\n",
       "      <th>0.10</th>\n",
       "      <td>173</td>\n",
       "    </tr>\n",
       "    <tr>\n",
       "      <th>0.15</th>\n",
       "      <td>157</td>\n",
       "    </tr>\n",
       "    <tr>\n",
       "      <th>0.20</th>\n",
       "      <td>161</td>\n",
       "    </tr>\n",
       "    <tr>\n",
       "      <th>0.25</th>\n",
       "      <td>154</td>\n",
       "    </tr>\n",
       "  </tbody>\n",
       "</table>\n",
       "</div>"
      ],
      "text/plain": [
       "          Quantity\n",
       "Discount          \n",
       "0.00          1317\n",
       "0.05           185\n",
       "0.10           173\n",
       "0.15           157\n",
       "0.20           161\n",
       "0.25           154"
      ]
     },
     "execution_count": 10,
     "metadata": {},
     "output_type": "execute_result"
    }
   ],
   "source": [
    "#dropping outliers\n",
    "df_Q1 = df_Q1.drop(df_Q1[(df_Q1['Discount']==0.01) \n",
    "                         | (df_Q1['Discount']==0.02)\n",
    "                         | (df_Q1['Discount']==0.03)\n",
    "                         | (df_Q1['Discount']==0.04)\n",
    "                         | (df_Q1['Discount']==0.06)].index)\n",
    "df_Q1.groupby('Discount').count()"
   ]
  },
  {
   "cell_type": "markdown",
   "metadata": {
    "ExecuteTime": {
     "end_time": "2019-10-08T18:57:56.726818Z",
     "start_time": "2019-10-08T18:57:56.706519Z"
    },
    "hidden": true
   },
   "source": [
    "- We will be looking at discount amounts of 5%, 10%, 15%, 20% and 25%"
   ]
  },
  {
   "cell_type": "code",
   "execution_count": 11,
   "metadata": {
    "ExecuteTime": {
     "end_time": "2019-10-12T21:25:07.509131Z",
     "start_time": "2019-10-12T21:25:07.361291Z"
    },
    "hidden": true
   },
   "outputs": [
    {
     "data": {
      "image/png": "[encoded data removed]",
      "text/plain": [
       "<Figure size 432x288 with 1 Axes>"
      ]
     },
     "metadata": {
      "needs_background": "light"
     },
     "output_type": "display_data"
    }
   ],
   "source": [
    "#Look at a bar plot of the average quantity based on discount value\n",
    "df_Q1.groupby('Discount').count().plot(kind = 'bar', color = 'lightblue', legend = None)\n",
    "plt.ylabel('Count')\n",
    "plt.xlabel('Discount Value')\n",
    "plt.title('Items Split by Discount Value')\n",
    "plt.show()"
   ]
  },
  {
   "cell_type": "code",
   "execution_count": 12,
   "metadata": {
    "ExecuteTime": {
     "end_time": "2019-10-12T21:25:07.652609Z",
     "start_time": "2019-10-12T21:25:07.511732Z"
    },
    "hidden": true
   },
   "outputs": [
    {
     "data": {
      "text/plain": [
       "([<matplotlib.axis.XTick at 0x1c1ed3b748>,\n",
       "  <matplotlib.axis.XTick at 0x1c1ed3b128>],\n",
       " <a list of 2 Text xticklabel objects>)"
      ]
     },
     "execution_count": 12,
     "metadata": {},
     "output_type": "execute_result"
    },
    {
     "data": {
      "image/png": "[encoded data removed]",
      "text/plain": [
       "<Figure size 432x288 with 1 Axes>"
      ]
     },
     "metadata": {
      "needs_background": "light"
     },
     "output_type": "display_data"
    }
   ],
   "source": [
    "#Update chart to just show discounted vs not discounted items \n",
    "df_Q1['Item_disc'] = (df_Q1.Discount > 0.0)\n",
    "df_Q1.groupby('Item_disc').count().plot(kind = 'bar', color = 'lightblue', legend = None)\n",
    "plt.xlabel('Item Discounted')\n",
    "plt.ylabel('Count')\n",
    "plt.title('Count of Items Discounted')\n",
    "labels = ['Not Discounted', 'Discounted']\n",
    "plt.xticks(range(0,2),labels,rotation=0)"
   ]
  },
  {
   "cell_type": "markdown",
   "metadata": {
    "heading_collapsed": true,
    "hidden": true
   },
   "source": [
    "### Check t-test Assumptions"
   ]
  },
  {
   "cell_type": "markdown",
   "metadata": {
    "heading_collapsed": true,
    "hidden": true
   },
   "source": [
    "#### Check Normality"
   ]
  },
  {
   "cell_type": "code",
   "execution_count": 13,
   "metadata": {
    "ExecuteTime": {
     "end_time": "2019-10-12T21:25:08.116699Z",
     "start_time": "2019-10-12T21:25:08.108982Z"
    },
    "hidden": true
   },
   "outputs": [],
   "source": [
    "#Create control and experimental groups:\n",
    "#control = customers who did not receive a discount\n",
    "#experimental = customers who did receive a discount\n",
    "control = df_Q1[df_Q1.Discount == 0]\n",
    "experimental = df_Q1[df_Q1.Discount != 0]\n",
    "ctrl = control.Quantity\n",
    "exp = experimental.Quantity"
   ]
  },
  {
   "cell_type": "code",
   "execution_count": 14,
   "metadata": {
    "ExecuteTime": {
     "end_time": "2019-10-12T21:25:08.498831Z",
     "start_time": "2019-10-12T21:25:08.119362Z"
    },
    "hidden": true
   },
   "outputs": [
    {
     "name": "stderr",
     "output_type": "stream",
     "text": [
      "/anaconda3/envs/learn-env/lib/python3.6/site-packages/scipy/stats/stats.py:1713: FutureWarning: Using a non-tuple sequence for multidimensional indexing is deprecated; use `arr[tuple(seq)]` instead of `arr[seq]`. In the future this will be interpreted as an array index, `arr[np.array(seq)]`, which will result either in an error or a different result.\n",
      "  return np.add.reduce(sorted[indexer] * weights, axis=axis) / sumval\n"
     ]
    },
    {
     "data": {
      "text/plain": [
       "<matplotlib.legend.Legend at 0x10b135588>"
      ]
     },
     "execution_count": 14,
     "metadata": {},
     "output_type": "execute_result"
    },
    {
     "data": {
      "image/png": "[encoded data removed]",
      "text/plain": [
       "<Figure size 432x288 with 1 Axes>"
      ]
     },
     "metadata": {
      "needs_background": "light"
     },
     "output_type": "display_data"
    }
   ],
   "source": [
    "#Check Normality \n",
    "sns.distplot(ctrl, label = 'Control', kde = True)\n",
    "sns.distplot(exp, label = 'Experimental', kde=True)\n",
    "plt.title('Check for Normality')\n",
    "plt.legend()"
   ]
  },
  {
   "cell_type": "markdown",
   "metadata": {
    "hidden": true
   },
   "source": [
    "Both the control and experimental groups are positively skewed with long tails, visually they do not follow a normal curve. Therefore, I will use the Central Limit Theorem to create a sample distribution of sample means that will be normally distributed."
   ]
  },
  {
   "cell_type": "code",
   "execution_count": 15,
   "metadata": {
    "ExecuteTime": {
     "end_time": "2019-10-12T21:25:08.819368Z",
     "start_time": "2019-10-12T21:25:08.537410Z"
    },
    "hidden": true
   },
   "outputs": [
    {
     "name": "stderr",
     "output_type": "stream",
     "text": [
      "/anaconda3/envs/learn-env/lib/python3.6/site-packages/scipy/stats/stats.py:1713: FutureWarning: Using a non-tuple sequence for multidimensional indexing is deprecated; use `arr[tuple(seq)]` instead of `arr[seq]`. In the future this will be interpreted as an array index, `arr[np.array(seq)]`, which will result either in an error or a different result.\n",
      "  return np.add.reduce(sorted[indexer] * weights, axis=axis) / sumval\n"
     ]
    },
    {
     "data": {
      "text/plain": [
       "<matplotlib.legend.Legend at 0x1c1ef87160>"
      ]
     },
     "execution_count": 15,
     "metadata": {},
     "output_type": "execute_result"
    },
    {
     "data": {
      "image/png": "[encoded data removed]",
      "text/plain": [
       "<Figure size 432x288 with 1 Axes>"
      ]
     },
     "metadata": {
      "needs_background": "light"
     },
     "output_type": "display_data"
    }
   ],
   "source": [
    "#Create a sample distribution\n",
    "import sample_dist as sd\n",
    "\n",
    "ctrl_sample = sd.create_sample_distribution(ctrl)\n",
    "exp_sample = sd.create_sample_distribution(exp)\n",
    "sns.distplot(ctrl_sample, label = 'Control', kde = True)\n",
    "sns.distplot(exp_sample, label = 'Experimental', kde=True)\n",
    "plt.title('Samples_100_30 - Check for Normality')\n",
    "plt.legend()"
   ]
  },
  {
   "cell_type": "markdown",
   "metadata": {
    "hidden": true
   },
   "source": [
    "Using a distribution size of 100 and sample size of 30 brings me closer to normality"
   ]
  },
  {
   "cell_type": "markdown",
   "metadata": {
    "heading_collapsed": true,
    "hidden": true
   },
   "source": [
    "#### Check randomness"
   ]
  },
  {
   "cell_type": "markdown",
   "metadata": {
    "hidden": true
   },
   "source": [
    "My formula to create the samples used numpy's random.choice makes sure randomness holds"
   ]
  },
  {
   "cell_type": "markdown",
   "metadata": {
    "ExecuteTime": {
     "end_time": "2019-10-08T20:29:37.304450Z",
     "start_time": "2019-10-08T20:29:37.298609Z"
    },
    "heading_collapsed": true,
    "hidden": true
   },
   "source": [
    "#### Check independence of observations"
   ]
  },
  {
   "cell_type": "markdown",
   "metadata": {
    "hidden": true
   },
   "source": [
    "Each customer's order is independent from another's so independence holds"
   ]
  },
  {
   "cell_type": "markdown",
   "metadata": {
    "heading_collapsed": true,
    "hidden": true
   },
   "source": [
    "### Perform t-test"
   ]
  },
  {
   "cell_type": "markdown",
   "metadata": {
    "hidden": true
   },
   "source": [
    "The Levene Test will test that the population variances are equal. If the resulting p-value < 0.05, the obtained differences in sample variances are unlikely to have occurred based on random sampling from a population with equal variances. "
   ]
  },
  {
   "cell_type": "code",
   "execution_count": 16,
   "metadata": {
    "ExecuteTime": {
     "end_time": "2019-10-12T21:25:11.193489Z",
     "start_time": "2019-10-12T21:25:11.182791Z"
    },
    "hidden": true
   },
   "outputs": [
    {
     "data": {
      "text/plain": [
       "LeveneResult(statistic=2.982003795311301, pvalue=0.0857545873039407)"
      ]
     },
     "execution_count": 16,
     "metadata": {},
     "output_type": "execute_result"
    }
   ],
   "source": [
    "#check if variances are equal\n",
    "stat.levene(exp_sample,ctrl_sample)"
   ]
  },
  {
   "cell_type": "markdown",
   "metadata": {
    "hidden": true
   },
   "source": [
    "Based on the sample, the p-value has been > 0.05 or < 0.05, therefore since the null hypothesis of equal variances can be rejected and it can be concluded that there is a difference between the variances in the population, I'll use Welch's t-test."
   ]
  },
  {
   "cell_type": "code",
   "execution_count": 17,
   "metadata": {
    "ExecuteTime": {
     "end_time": "2019-10-12T21:25:11.637541Z",
     "start_time": "2019-10-12T21:25:11.624527Z"
    },
    "hidden": true
   },
   "outputs": [
    {
     "data": {
      "text/plain": [
       "Ttest_indResult(statistic=10.588413337451112, pvalue=5.971701191860998e-21)"
      ]
     },
     "execution_count": 17,
     "metadata": {},
     "output_type": "execute_result"
    }
   ],
   "source": [
    "#t-test calculation\n",
    "stat.ttest_ind(exp_sample,ctrl_sample, equal_var = False)"
   ]
  },
  {
   "cell_type": "markdown",
   "metadata": {
    "hidden": true
   },
   "source": [
    "Since this is a 2 sample Welch's t-test, dividing the p-value by 2, I still get a p-value < alpha (0.05) and can reject H0.  Therefore, I can claim that discount rate does have a statistically significant effect on the quantity of a product in a customers order.  I still need to look at the effect size to determine by how much."
   ]
  },
  {
   "cell_type": "markdown",
   "metadata": {
    "heading_collapsed": true,
    "hidden": true
   },
   "source": [
    "### Calculate Effect Size and Power"
   ]
  },
  {
   "cell_type": "code",
   "execution_count": 18,
   "metadata": {
    "ExecuteTime": {
     "end_time": "2019-10-12T21:25:12.516266Z",
     "start_time": "2019-10-12T21:25:12.508387Z"
    },
    "hidden": true
   },
   "outputs": [
    {
     "data": {
      "text/plain": [
       "1.5049715390759177"
      ]
     },
     "execution_count": 18,
     "metadata": {},
     "output_type": "execute_result"
    }
   ],
   "source": [
    "#calculate Cohen's d\n",
    "import cohen_d as cd\n",
    "group1 = np.array(exp_sample)\n",
    "group2 = np.array(ctrl_sample)\n",
    "effect_size= cd.Cohen_d(group1,group2)\n",
    "effect_size"
   ]
  },
  {
   "cell_type": "markdown",
   "metadata": {
    "hidden": true
   },
   "source": [
    "For Cohen's d, typically values above 0.8 are considered as having a large effect size.  With my value above 0.8, I can claim that discount rate has a large statistically significant effect on the quantity of a product sold."
   ]
  },
  {
   "cell_type": "code",
   "execution_count": 19,
   "metadata": {
    "ExecuteTime": {
     "end_time": "2019-10-12T21:25:12.945387Z",
     "start_time": "2019-10-12T21:25:12.935668Z"
    },
    "hidden": true
   },
   "outputs": [
    {
     "data": {
      "text/plain": [
       "1.0"
      ]
     },
     "execution_count": 19,
     "metadata": {},
     "output_type": "execute_result"
    }
   ],
   "source": [
    "#Calculate power\n",
    "power_analysis.solve_power(effect_size=effect_size, alpha=.05, \n",
    "                           nobs1=len(exp_sample))"
   ]
  },
  {
   "cell_type": "markdown",
   "metadata": {
    "hidden": true
   },
   "source": [
    "Having a power of 1.0 means that the chance of having a type 2 error is very low and there is a 100% chance I correctly detected an effect between discount rates and the quantity of a product sold."
   ]
  },
  {
   "cell_type": "markdown",
   "metadata": {
    "heading_collapsed": true,
    "hidden": true
   },
   "source": [
    "### Determine which levels of discount are statistically significant"
   ]
  },
  {
   "cell_type": "code",
   "execution_count": 20,
   "metadata": {
    "ExecuteTime": {
     "end_time": "2019-10-12T21:25:13.790548Z",
     "start_time": "2019-10-12T21:25:13.763898Z"
    },
    "hidden": true
   },
   "outputs": [
    {
     "data": {
      "text/html": [
       "<div>\n",
       "<style scoped>\n",
       "    .dataframe tbody tr th:only-of-type {\n",
       "        vertical-align: middle;\n",
       "    }\n",
       "\n",
       "    .dataframe tbody tr th {\n",
       "        vertical-align: top;\n",
       "    }\n",
       "\n",
       "    .dataframe thead th {\n",
       "        text-align: right;\n",
       "    }\n",
       "</style>\n",
       "<table border=\"1\" class=\"dataframe\">\n",
       "  <thead>\n",
       "    <tr style=\"text-align: right;\">\n",
       "      <th></th>\n",
       "      <th>Quantity</th>\n",
       "      <th>Item_disc</th>\n",
       "      <th>D_0.05</th>\n",
       "      <th>D_0.1</th>\n",
       "      <th>D_0.15</th>\n",
       "      <th>D_0.2</th>\n",
       "      <th>D_0.25</th>\n",
       "    </tr>\n",
       "  </thead>\n",
       "  <tbody>\n",
       "    <tr>\n",
       "      <th>0</th>\n",
       "      <td>12</td>\n",
       "      <td>False</td>\n",
       "      <td>0</td>\n",
       "      <td>0</td>\n",
       "      <td>0</td>\n",
       "      <td>0</td>\n",
       "      <td>0</td>\n",
       "    </tr>\n",
       "    <tr>\n",
       "      <th>1</th>\n",
       "      <td>10</td>\n",
       "      <td>False</td>\n",
       "      <td>0</td>\n",
       "      <td>0</td>\n",
       "      <td>0</td>\n",
       "      <td>0</td>\n",
       "      <td>0</td>\n",
       "    </tr>\n",
       "    <tr>\n",
       "      <th>2</th>\n",
       "      <td>5</td>\n",
       "      <td>False</td>\n",
       "      <td>0</td>\n",
       "      <td>0</td>\n",
       "      <td>0</td>\n",
       "      <td>0</td>\n",
       "      <td>0</td>\n",
       "    </tr>\n",
       "    <tr>\n",
       "      <th>3</th>\n",
       "      <td>9</td>\n",
       "      <td>False</td>\n",
       "      <td>0</td>\n",
       "      <td>0</td>\n",
       "      <td>0</td>\n",
       "      <td>0</td>\n",
       "      <td>0</td>\n",
       "    </tr>\n",
       "    <tr>\n",
       "      <th>4</th>\n",
       "      <td>40</td>\n",
       "      <td>False</td>\n",
       "      <td>0</td>\n",
       "      <td>0</td>\n",
       "      <td>0</td>\n",
       "      <td>0</td>\n",
       "      <td>0</td>\n",
       "    </tr>\n",
       "  </tbody>\n",
       "</table>\n",
       "</div>"
      ],
      "text/plain": [
       "   Quantity  Item_disc  D_0.05  D_0.1  D_0.15  D_0.2  D_0.25\n",
       "0        12      False       0      0       0      0       0\n",
       "1        10      False       0      0       0      0       0\n",
       "2         5      False       0      0       0      0       0\n",
       "3         9      False       0      0       0      0       0\n",
       "4        40      False       0      0       0      0       0"
      ]
     },
     "execution_count": 20,
     "metadata": {},
     "output_type": "execute_result"
    }
   ],
   "source": [
    "#Created dummy variables for each level of discount\n",
    "dummies = pd.get_dummies(df_Q1.Discount, prefix = \"D\")\n",
    "df_Q1_dis = pd.concat([df_Q1, dummies], axis = 1)\n",
    "df_Q1_dis = df_Q1_dis.drop(columns=['Discount', 'D_0.0'])\n",
    "df_Q1_dis.head()"
   ]
  },
  {
   "cell_type": "code",
   "execution_count": 21,
   "metadata": {
    "ExecuteTime": {
     "end_time": "2019-10-12T21:25:13.806978Z",
     "start_time": "2019-10-12T21:25:13.794280Z"
    },
    "hidden": true
   },
   "outputs": [
    {
     "data": {
      "text/plain": [
       "Index(['Quantity', 'Item_disc', 'D_0.05', 'D_0.1', 'D_0.15', 'D_0.2',\n",
       "       'D_0.25'],\n",
       "      dtype='object')"
      ]
     },
     "execution_count": 21,
     "metadata": {},
     "output_type": "execute_result"
    }
   ],
   "source": [
    "#look at columns\n",
    "df_Q1_dis.columns"
   ]
  },
  {
   "cell_type": "code",
   "execution_count": 22,
   "metadata": {
    "ExecuteTime": {
     "end_time": "2019-10-12T21:25:13.833401Z",
     "start_time": "2019-10-12T21:25:13.810314Z"
    },
    "hidden": true
   },
   "outputs": [
    {
     "data": {
      "text/html": [
       "<div>\n",
       "<style scoped>\n",
       "    .dataframe tbody tr th:only-of-type {\n",
       "        vertical-align: middle;\n",
       "    }\n",
       "\n",
       "    .dataframe tbody tr th {\n",
       "        vertical-align: top;\n",
       "    }\n",
       "\n",
       "    .dataframe thead th {\n",
       "        text-align: right;\n",
       "    }\n",
       "</style>\n",
       "<table border=\"1\" class=\"dataframe\">\n",
       "  <thead>\n",
       "    <tr style=\"text-align: right;\">\n",
       "      <th></th>\n",
       "      <th>Quantity</th>\n",
       "      <th>Item_disc</th>\n",
       "      <th>D_05</th>\n",
       "      <th>D_10</th>\n",
       "      <th>D_15</th>\n",
       "      <th>D_20</th>\n",
       "      <th>D_25</th>\n",
       "    </tr>\n",
       "  </thead>\n",
       "  <tbody>\n",
       "    <tr>\n",
       "      <th>0</th>\n",
       "      <td>12</td>\n",
       "      <td>False</td>\n",
       "      <td>0</td>\n",
       "      <td>0</td>\n",
       "      <td>0</td>\n",
       "      <td>0</td>\n",
       "      <td>0</td>\n",
       "    </tr>\n",
       "    <tr>\n",
       "      <th>1</th>\n",
       "      <td>10</td>\n",
       "      <td>False</td>\n",
       "      <td>0</td>\n",
       "      <td>0</td>\n",
       "      <td>0</td>\n",
       "      <td>0</td>\n",
       "      <td>0</td>\n",
       "    </tr>\n",
       "    <tr>\n",
       "      <th>2</th>\n",
       "      <td>5</td>\n",
       "      <td>False</td>\n",
       "      <td>0</td>\n",
       "      <td>0</td>\n",
       "      <td>0</td>\n",
       "      <td>0</td>\n",
       "      <td>0</td>\n",
       "    </tr>\n",
       "    <tr>\n",
       "      <th>3</th>\n",
       "      <td>9</td>\n",
       "      <td>False</td>\n",
       "      <td>0</td>\n",
       "      <td>0</td>\n",
       "      <td>0</td>\n",
       "      <td>0</td>\n",
       "      <td>0</td>\n",
       "    </tr>\n",
       "    <tr>\n",
       "      <th>4</th>\n",
       "      <td>40</td>\n",
       "      <td>False</td>\n",
       "      <td>0</td>\n",
       "      <td>0</td>\n",
       "      <td>0</td>\n",
       "      <td>0</td>\n",
       "      <td>0</td>\n",
       "    </tr>\n",
       "  </tbody>\n",
       "</table>\n",
       "</div>"
      ],
      "text/plain": [
       "   Quantity  Item_disc  D_05  D_10  D_15  D_20  D_25\n",
       "0        12      False     0     0     0     0     0\n",
       "1        10      False     0     0     0     0     0\n",
       "2         5      False     0     0     0     0     0\n",
       "3         9      False     0     0     0     0     0\n",
       "4        40      False     0     0     0     0     0"
      ]
     },
     "execution_count": 22,
     "metadata": {},
     "output_type": "execute_result"
    }
   ],
   "source": [
    "#rename columns for ANOVA test\n",
    "df_Q1_dis = df_Q1_dis.rename(columns={'D_0.05':'D_05', 'D_0.1':'D_10', 'D_0.15':'D_15'\n",
    "                         , 'D_0.2':'D_20', 'D_0.25':'D_25'})\n",
    "df_Q1_dis.head()"
   ]
  },
  {
   "cell_type": "code",
   "execution_count": 23,
   "metadata": {
    "ExecuteTime": {
     "end_time": "2019-10-12T21:25:13.849366Z",
     "start_time": "2019-10-12T21:25:13.836346Z"
    },
    "hidden": true
   },
   "outputs": [
    {
     "data": {
      "text/plain": [
       "LeveneResult(statistic=1.077197807212349, pvalue=0.36588344916396154)"
      ]
     },
     "execution_count": 23,
     "metadata": {},
     "output_type": "execute_result"
    }
   ],
   "source": [
    "#check if variances are equal for ANOVA test \n",
    "stat.levene(df_Q1_dis.D_05, df_Q1_dis.D_10,df_Q1_dis.D_15,df_Q1_dis.D_20,df_Q1_dis.D_25)"
   ]
  },
  {
   "cell_type": "markdown",
   "metadata": {
    "hidden": true
   },
   "source": [
    "Since the p-value > 0.05, the null hypothesis of equal variances is not rejected and it is concluded that there is not a difference between the variances in the population."
   ]
  },
  {
   "cell_type": "code",
   "execution_count": 24,
   "metadata": {
    "ExecuteTime": {
     "end_time": "2019-10-12T21:25:14.286414Z",
     "start_time": "2019-10-12T21:25:14.208503Z"
    },
    "hidden": true
   },
   "outputs": [
    {
     "name": "stdout",
     "output_type": "stream",
     "text": [
      "                 sum_sq      df          F    PR(>F)\n",
      "C(D_05)     6429.167894     1.0  18.156112  0.000021\n",
      "C(D_10)     1896.523730     1.0   5.355825  0.020747\n",
      "C(D_15)     6234.997746     1.0  17.607771  0.000028\n",
      "C(D_20)     4044.436361     1.0  11.421577  0.000739\n",
      "C(D_25)     5870.222460     1.0  16.577637  0.000048\n",
      "Residual  758138.565924  2141.0        NaN       NaN\n"
     ]
    }
   ],
   "source": [
    "#since my variances are equal, I can perform an ANOVA test \n",
    "#to determine which levels of discount are statistically significant\n",
    "formula = 'Quantity ~ C(D_05) + C(D_10) + C(D_15) + C(D_20) + C(D_25)'\n",
    "lm = ols(formula, df_Q1_dis).fit()\n",
    "table1 = sm.stats.anova_lm(lm, typ=2)\n",
    "print(table1)"
   ]
  },
  {
   "cell_type": "code",
   "execution_count": 25,
   "metadata": {
    "ExecuteTime": {
     "end_time": "2019-10-12T21:25:14.310028Z",
     "start_time": "2019-10-12T21:25:14.289222Z"
    },
    "hidden": true
   },
   "outputs": [
    {
     "data": {
      "text/html": [
       "<div>\n",
       "<style scoped>\n",
       "    .dataframe tbody tr th:only-of-type {\n",
       "        vertical-align: middle;\n",
       "    }\n",
       "\n",
       "    .dataframe tbody tr th {\n",
       "        vertical-align: top;\n",
       "    }\n",
       "\n",
       "    .dataframe thead th {\n",
       "        text-align: right;\n",
       "    }\n",
       "</style>\n",
       "<table border=\"1\" class=\"dataframe\">\n",
       "  <thead>\n",
       "    <tr style=\"text-align: right;\">\n",
       "      <th></th>\n",
       "      <th>sum_sq</th>\n",
       "      <th>df</th>\n",
       "      <th>mean_sq</th>\n",
       "      <th>F</th>\n",
       "      <th>PR(&gt;F)</th>\n",
       "      <th>eta_sq</th>\n",
       "      <th>omega_sq</th>\n",
       "    </tr>\n",
       "  </thead>\n",
       "  <tbody>\n",
       "    <tr>\n",
       "      <th>C(D_05)</th>\n",
       "      <td>6429.167894</td>\n",
       "      <td>1.0</td>\n",
       "      <td>6429.167894</td>\n",
       "      <td>18.156112</td>\n",
       "      <td>0.000021</td>\n",
       "      <td>0.008215</td>\n",
       "      <td>0.007759</td>\n",
       "    </tr>\n",
       "    <tr>\n",
       "      <th>C(D_10)</th>\n",
       "      <td>1896.523730</td>\n",
       "      <td>1.0</td>\n",
       "      <td>1896.523730</td>\n",
       "      <td>5.355825</td>\n",
       "      <td>0.020747</td>\n",
       "      <td>0.002423</td>\n",
       "      <td>0.001970</td>\n",
       "    </tr>\n",
       "    <tr>\n",
       "      <th>C(D_15)</th>\n",
       "      <td>6234.997746</td>\n",
       "      <td>1.0</td>\n",
       "      <td>6234.997746</td>\n",
       "      <td>17.607771</td>\n",
       "      <td>0.000028</td>\n",
       "      <td>0.007967</td>\n",
       "      <td>0.007511</td>\n",
       "    </tr>\n",
       "    <tr>\n",
       "      <th>C(D_20)</th>\n",
       "      <td>4044.436361</td>\n",
       "      <td>1.0</td>\n",
       "      <td>4044.436361</td>\n",
       "      <td>11.421577</td>\n",
       "      <td>0.000739</td>\n",
       "      <td>0.005168</td>\n",
       "      <td>0.004713</td>\n",
       "    </tr>\n",
       "    <tr>\n",
       "      <th>C(D_25)</th>\n",
       "      <td>5870.222460</td>\n",
       "      <td>1.0</td>\n",
       "      <td>5870.222460</td>\n",
       "      <td>16.577637</td>\n",
       "      <td>0.000048</td>\n",
       "      <td>0.007501</td>\n",
       "      <td>0.007045</td>\n",
       "    </tr>\n",
       "    <tr>\n",
       "      <th>Residual</th>\n",
       "      <td>758138.565924</td>\n",
       "      <td>2141.0</td>\n",
       "      <td>354.104888</td>\n",
       "      <td>NaN</td>\n",
       "      <td>NaN</td>\n",
       "      <td>NaN</td>\n",
       "      <td>NaN</td>\n",
       "    </tr>\n",
       "  </tbody>\n",
       "</table>\n",
       "</div>"
      ],
      "text/plain": [
       "                 sum_sq      df      mean_sq          F    PR(>F)    eta_sq  \\\n",
       "C(D_05)     6429.167894     1.0  6429.167894  18.156112  0.000021  0.008215   \n",
       "C(D_10)     1896.523730     1.0  1896.523730   5.355825  0.020747  0.002423   \n",
       "C(D_15)     6234.997746     1.0  6234.997746  17.607771  0.000028  0.007967   \n",
       "C(D_20)     4044.436361     1.0  4044.436361  11.421577  0.000739  0.005168   \n",
       "C(D_25)     5870.222460     1.0  5870.222460  16.577637  0.000048  0.007501   \n",
       "Residual  758138.565924  2141.0   354.104888        NaN       NaN       NaN   \n",
       "\n",
       "          omega_sq  \n",
       "C(D_05)   0.007759  \n",
       "C(D_10)   0.001970  \n",
       "C(D_15)   0.007511  \n",
       "C(D_20)   0.004713  \n",
       "C(D_25)   0.007045  \n",
       "Residual       NaN  "
      ]
     },
     "execution_count": 25,
     "metadata": {},
     "output_type": "execute_result"
    }
   ],
   "source": [
    "#calculate omega squared and eta effect size for anova test.  \n",
    "#will use omega squared is considered a better measure of effect size than \n",
    "#eta squared because it is unbiased in it’s calculation\n",
    "import aov_esize as aes\n",
    "\n",
    "aes.anova_table(table1)"
   ]
  },
  {
   "cell_type": "markdown",
   "metadata": {
    "hidden": true
   },
   "source": [
    "For omega squared, typically values around 0.01 are considered as having a small effect size.  With my values below 0.01, I can claim that the amount of discount rate has a small statistically significant effect on the quantity of a product sold, however in comparison it's largest for 5% followed by 15%."
   ]
  },
  {
   "cell_type": "markdown",
   "metadata": {
    "hidden": true
   },
   "source": [
    "In Conclusion: The null hypothesis can be rejected with all discount rates that were analyzed.  \n",
    "\n",
    "After reviewing my findings, I recommend the Northwind Company continues offering discount rates to customers increase the quantity of products in an order. I recommend Northwind particularly offers 5% or 15% discount rates to customers as they produce the largest statistically significant effect on the mean quantity of a product ordered."
   ]
  },
  {
   "cell_type": "markdown",
   "metadata": {
    "heading_collapsed": true
   },
   "source": [
    "## Hypothesis Test #2\n",
    "Does the region of Northwind's suppliers have a statistically significant effect on the unit price of a product? "
   ]
  },
  {
   "cell_type": "markdown",
   "metadata": {
    "hidden": true
   },
   "source": [
    "I will use an ANOVA test and split the data into groups by supplier region"
   ]
  },
  {
   "cell_type": "markdown",
   "metadata": {
    "heading_collapsed": true,
    "hidden": true
   },
   "source": [
    "### Set up null and alternative hypotheses"
   ]
  },
  {
   "cell_type": "markdown",
   "metadata": {
    "hidden": true
   },
   "source": [
    " - H0 = the suppliers region does not have an effect on the unit price of a product.  \n",
    " - H1 = the suppliers region does have an effect on the unit price of a product. "
   ]
  },
  {
   "cell_type": "markdown",
   "metadata": {
    "heading_collapsed": true,
    "hidden": true
   },
   "source": [
    "### Clean and Explore Data"
   ]
  },
  {
   "cell_type": "code",
   "execution_count": 26,
   "metadata": {
    "ExecuteTime": {
     "end_time": "2019-10-12T21:25:16.874265Z",
     "start_time": "2019-10-12T21:25:16.857341Z"
    },
    "hidden": true
   },
   "outputs": [
    {
     "name": "stdout",
     "output_type": "stream",
     "text": [
      "2233\n"
     ]
    },
    {
     "data": {
      "text/html": [
       "<div>\n",
       "<style scoped>\n",
       "    .dataframe tbody tr th:only-of-type {\n",
       "        vertical-align: middle;\n",
       "    }\n",
       "\n",
       "    .dataframe tbody tr th {\n",
       "        vertical-align: top;\n",
       "    }\n",
       "\n",
       "    .dataframe thead th {\n",
       "        text-align: right;\n",
       "    }\n",
       "</style>\n",
       "<table border=\"1\" class=\"dataframe\">\n",
       "  <thead>\n",
       "    <tr style=\"text-align: right;\">\n",
       "      <th></th>\n",
       "      <th>Region</th>\n",
       "      <th>UnitPrice</th>\n",
       "    </tr>\n",
       "  </thead>\n",
       "  <tbody>\n",
       "    <tr>\n",
       "      <th>0</th>\n",
       "      <td>British Isles</td>\n",
       "      <td>18.0</td>\n",
       "    </tr>\n",
       "    <tr>\n",
       "      <th>1</th>\n",
       "      <td>North America</td>\n",
       "      <td>18.0</td>\n",
       "    </tr>\n",
       "    <tr>\n",
       "      <th>2</th>\n",
       "      <td>North America</td>\n",
       "      <td>18.0</td>\n",
       "    </tr>\n",
       "    <tr>\n",
       "      <th>3</th>\n",
       "      <td>Eastern Asia</td>\n",
       "      <td>18.0</td>\n",
       "    </tr>\n",
       "    <tr>\n",
       "      <th>4</th>\n",
       "      <td>Southern Europe</td>\n",
       "      <td>18.0</td>\n",
       "    </tr>\n",
       "  </tbody>\n",
       "</table>\n",
       "</div>"
      ],
      "text/plain": [
       "            Region  UnitPrice\n",
       "0    British Isles       18.0\n",
       "1    North America       18.0\n",
       "2    North America       18.0\n",
       "3     Eastern Asia       18.0\n",
       "4  Southern Europe       18.0"
      ]
     },
     "execution_count": 26,
     "metadata": {},
     "output_type": "execute_result"
    }
   ],
   "source": [
    "#The Supplier Region can be found in the Supplier table\n",
    "#The units in stock can be found in the Product table\n",
    "#Set up a DataFrame for these items \n",
    "df_Q2 = sql_to_df(\"\"\"SELECT Region, UnitPrice\n",
    "                     FROM Supplier s\n",
    "                     JOIN Product p\n",
    "                     ON (SupplierID)\"\"\")\n",
    "print(len(df_Q2))\n",
    "df_Q2.head()"
   ]
  },
  {
   "cell_type": "markdown",
   "metadata": {
    "hidden": true
   },
   "source": [
    "- There are 2,233 data points"
   ]
  },
  {
   "cell_type": "code",
   "execution_count": 27,
   "metadata": {
    "ExecuteTime": {
     "end_time": "2019-10-12T21:25:17.260957Z",
     "start_time": "2019-10-12T21:25:17.240132Z"
    },
    "hidden": true
   },
   "outputs": [
    {
     "data": {
      "text/plain": [
       "count    2233.000000\n",
       "mean       28.866364\n",
       "std        33.602340\n",
       "min         2.500000\n",
       "25%        13.250000\n",
       "50%        19.500000\n",
       "75%        33.250000\n",
       "max       263.500000\n",
       "Name: UnitPrice, dtype: float64"
      ]
     },
     "execution_count": 27,
     "metadata": {},
     "output_type": "execute_result"
    }
   ],
   "source": [
    "#review the stats on Units In Stock\n",
    "df_Q2.UnitPrice.describe()"
   ]
  },
  {
   "cell_type": "markdown",
   "metadata": {
    "hidden": true
   },
   "source": [
    "- The maximum unit price is 263.50 and the minimum is 2.50.  On average the unit price is approximately 28.86 for all regions."
   ]
  },
  {
   "cell_type": "code",
   "execution_count": 28,
   "metadata": {
    "ExecuteTime": {
     "end_time": "2019-10-12T21:25:17.635578Z",
     "start_time": "2019-10-12T21:25:17.626459Z"
    },
    "hidden": true
   },
   "outputs": [
    {
     "data": {
      "text/plain": [
       "North America      462\n",
       "Western Europe     462\n",
       "Northern Europe    308\n",
       "Southern Europe    231\n",
       "British Isles      154\n",
       "Scandinavia        154\n",
       "Eastern Asia       154\n",
       "South America       77\n",
       "Victoria            77\n",
       "NSW                 77\n",
       "South-East Asia     77\n",
       "Name: Region, dtype: int64"
      ]
     },
     "execution_count": 28,
     "metadata": {},
     "output_type": "execute_result"
    }
   ],
   "source": [
    "#Review the counts each region shows up \n",
    "#to determine if there are any outliers\n",
    "df_Q2.Region.value_counts()"
   ]
  },
  {
   "cell_type": "markdown",
   "metadata": {
    "hidden": true
   },
   "source": [
    "- I've decided not to group the supplier regions to determine what is going on in each area"
   ]
  },
  {
   "cell_type": "code",
   "execution_count": 29,
   "metadata": {
    "ExecuteTime": {
     "end_time": "2019-10-12T21:25:18.195246Z",
     "start_time": "2019-10-12T21:25:18.003048Z"
    },
    "hidden": true
   },
   "outputs": [
    {
     "data": {
      "text/plain": [
       "Text(0.5, 1.0, 'Unit Price by Supplier Region')"
      ]
     },
     "execution_count": 29,
     "metadata": {},
     "output_type": "execute_result"
    },
    {
     "data": {
      "image/png": "[encoded data removed]",
      "text/plain": [
       "<Figure size 432x288 with 1 Axes>"
      ]
     },
     "metadata": {
      "needs_background": "light"
     },
     "output_type": "display_data"
    }
   ],
   "source": [
    "#checking sample sizes - all over 30\n",
    "df_Q2.groupby('Region')['UnitPrice'].sum().plot(kind='barh', color = 'lightgreen')\n",
    "plt.xlabel('Total Unit Price')\n",
    "plt.ylabel(\"Supplier's Region\")\n",
    "plt.title('Unit Price by Supplier Region')"
   ]
  },
  {
   "cell_type": "markdown",
   "metadata": {
    "hidden": true
   },
   "source": [
    "- Based on the chart it appears that the regions of Western Europe and North America have the greatest unit prices in total.  \n",
    "- Please note, the total unit price is the combination of average price and the number in stock / the population.  The average unit price is the same across all regions."
   ]
  },
  {
   "cell_type": "markdown",
   "metadata": {
    "heading_collapsed": true,
    "hidden": true
   },
   "source": [
    "### Check ANOVA Assumptions"
   ]
  },
  {
   "cell_type": "markdown",
   "metadata": {
    "heading_collapsed": true,
    "hidden": true
   },
   "source": [
    "#### Check Normality"
   ]
  },
  {
   "cell_type": "code",
   "execution_count": 30,
   "metadata": {
    "ExecuteTime": {
     "end_time": "2019-10-12T21:25:20.753208Z",
     "start_time": "2019-10-12T21:25:19.284232Z"
    },
    "hidden": true
   },
   "outputs": [
    {
     "name": "stderr",
     "output_type": "stream",
     "text": [
      "/anaconda3/envs/learn-env/lib/python3.6/site-packages/scipy/stats/stats.py:1713: FutureWarning: Using a non-tuple sequence for multidimensional indexing is deprecated; use `arr[tuple(seq)]` instead of `arr[seq]`. In the future this will be interpreted as an array index, `arr[np.array(seq)]`, which will result either in an error or a different result.\n",
      "  return np.add.reduce(sorted[indexer] * weights, axis=axis) / sumval\n"
     ]
    },
    {
     "data": {
      "image/png": "[encoded data removed]",
      "text/plain": [
       "<Figure size 576x432 with 1 Axes>"
      ]
     },
     "metadata": {
      "needs_background": "light"
     },
     "output_type": "display_data"
    }
   ],
   "source": [
    "#Check Normality\n",
    "plt.figure(figsize=(8,6))\n",
    "for region in set(df_Q2.Region):\n",
    "    region_group = df_Q2.loc[df_Q2['Region'] == region]\n",
    "    sns.distplot(region_group['UnitPrice'], hist_kws=dict(alpha=0.2), label=region)\n",
    "    plt.legend()\n",
    "    plt.xlabel('Unit Price)')"
   ]
  },
  {
   "cell_type": "markdown",
   "metadata": {
    "hidden": true
   },
   "source": [
    "The Data does not appear to be perfectly normally distributed.  However, with an F-test this is pretty close as everything within an F-test is not normally distributed"
   ]
  },
  {
   "cell_type": "markdown",
   "metadata": {
    "heading_collapsed": true,
    "hidden": true
   },
   "source": [
    "#### Check Equality of Variances"
   ]
  },
  {
   "cell_type": "code",
   "execution_count": 31,
   "metadata": {
    "ExecuteTime": {
     "end_time": "2019-10-12T21:25:20.770320Z",
     "start_time": "2019-10-12T21:25:20.756194Z"
    },
    "hidden": true
   },
   "outputs": [],
   "source": [
    "#create separate data frames for different regions\n",
    "SE_df = df_Q2[df_Q2.Region == 'Southern Europe']\n",
    "SA_df = df_Q2[df_Q2.Region == 'South America']\n",
    "BI_df = df_Q2[df_Q2.Region == 'British Isles']\n",
    "V_df = df_Q2[df_Q2.Region == 'Victoria']\n",
    "SEA_df = df_Q2[df_Q2.Region == 'South-East Asia']\n",
    "NE_df = df_Q2[df_Q2.Region == 'Northern Europe']\n",
    "NA_df = df_Q2[df_Q2.Region == 'North America']\n",
    "NSW_df = df_Q2[df_Q2.Region == 'NSW']\n",
    "WE_df = df_Q2[df_Q2.Region == 'Western Europe']\n",
    "EA_df = df_Q2[df_Q2.Region == 'Eastern Asia']\n",
    "S_df = df_Q2[df_Q2.Region == 'Scandinavia']"
   ]
  },
  {
   "cell_type": "code",
   "execution_count": 32,
   "metadata": {
    "ExecuteTime": {
     "end_time": "2019-10-12T21:25:20.783245Z",
     "start_time": "2019-10-12T21:25:20.773893Z"
    },
    "hidden": true
   },
   "outputs": [
    {
     "data": {
      "text/plain": [
       "LeveneResult(statistic=2.9392209974723034e-30, pvalue=1.0)"
      ]
     },
     "execution_count": 32,
     "metadata": {},
     "output_type": "execute_result"
    }
   ],
   "source": [
    "#Check equality of variances using the Levene test\n",
    "stat.levene(SE_df.UnitPrice, SA_df.UnitPrice, BI_df.UnitPrice, \n",
    "            V_df.UnitPrice, SEA_df.UnitPrice, NE_df.UnitPrice,\n",
    "            NA_df.UnitPrice, NSW_df.UnitPrice, WE_df.UnitPrice,\n",
    "            EA_df.UnitPrice, S_df.UnitPrice)"
   ]
  },
  {
   "cell_type": "markdown",
   "metadata": {
    "hidden": true
   },
   "source": [
    "Since the p-value > 0.05, the null hypothesis of equal variances is not rejected and it is concluded that there is not a difference between the variances in the population."
   ]
  },
  {
   "cell_type": "markdown",
   "metadata": {
    "heading_collapsed": true,
    "hidden": true
   },
   "source": [
    "#### Check Independence"
   ]
  },
  {
   "cell_type": "markdown",
   "metadata": {
    "hidden": true
   },
   "source": [
    "Each supplier's region is independent from another's so independence holds"
   ]
  },
  {
   "cell_type": "markdown",
   "metadata": {
    "heading_collapsed": true,
    "hidden": true
   },
   "source": [
    "### Perform ANOVA Test"
   ]
  },
  {
   "cell_type": "code",
   "execution_count": 33,
   "metadata": {
    "ExecuteTime": {
     "end_time": "2019-10-12T21:25:21.749296Z",
     "start_time": "2019-10-12T21:25:21.728810Z"
    },
    "hidden": true
   },
   "outputs": [
    {
     "data": {
      "text/html": [
       "<div>\n",
       "<style scoped>\n",
       "    .dataframe tbody tr th:only-of-type {\n",
       "        vertical-align: middle;\n",
       "    }\n",
       "\n",
       "    .dataframe tbody tr th {\n",
       "        vertical-align: top;\n",
       "    }\n",
       "\n",
       "    .dataframe thead th {\n",
       "        text-align: right;\n",
       "    }\n",
       "</style>\n",
       "<table border=\"1\" class=\"dataframe\">\n",
       "  <thead>\n",
       "    <tr style=\"text-align: right;\">\n",
       "      <th></th>\n",
       "      <th>UnitPrice</th>\n",
       "      <th>British Isles</th>\n",
       "      <th>Eastern Asia</th>\n",
       "      <th>NSW</th>\n",
       "      <th>North America</th>\n",
       "      <th>Northern Europe</th>\n",
       "      <th>Scandinavia</th>\n",
       "      <th>South America</th>\n",
       "      <th>South-East Asia</th>\n",
       "      <th>Southern Europe</th>\n",
       "      <th>Victoria</th>\n",
       "      <th>Western Europe</th>\n",
       "    </tr>\n",
       "  </thead>\n",
       "  <tbody>\n",
       "    <tr>\n",
       "      <th>0</th>\n",
       "      <td>18.0</td>\n",
       "      <td>1</td>\n",
       "      <td>0</td>\n",
       "      <td>0</td>\n",
       "      <td>0</td>\n",
       "      <td>0</td>\n",
       "      <td>0</td>\n",
       "      <td>0</td>\n",
       "      <td>0</td>\n",
       "      <td>0</td>\n",
       "      <td>0</td>\n",
       "      <td>0</td>\n",
       "    </tr>\n",
       "    <tr>\n",
       "      <th>1</th>\n",
       "      <td>18.0</td>\n",
       "      <td>0</td>\n",
       "      <td>0</td>\n",
       "      <td>0</td>\n",
       "      <td>1</td>\n",
       "      <td>0</td>\n",
       "      <td>0</td>\n",
       "      <td>0</td>\n",
       "      <td>0</td>\n",
       "      <td>0</td>\n",
       "      <td>0</td>\n",
       "      <td>0</td>\n",
       "    </tr>\n",
       "    <tr>\n",
       "      <th>2</th>\n",
       "      <td>18.0</td>\n",
       "      <td>0</td>\n",
       "      <td>0</td>\n",
       "      <td>0</td>\n",
       "      <td>1</td>\n",
       "      <td>0</td>\n",
       "      <td>0</td>\n",
       "      <td>0</td>\n",
       "      <td>0</td>\n",
       "      <td>0</td>\n",
       "      <td>0</td>\n",
       "      <td>0</td>\n",
       "    </tr>\n",
       "    <tr>\n",
       "      <th>3</th>\n",
       "      <td>18.0</td>\n",
       "      <td>0</td>\n",
       "      <td>1</td>\n",
       "      <td>0</td>\n",
       "      <td>0</td>\n",
       "      <td>0</td>\n",
       "      <td>0</td>\n",
       "      <td>0</td>\n",
       "      <td>0</td>\n",
       "      <td>0</td>\n",
       "      <td>0</td>\n",
       "      <td>0</td>\n",
       "    </tr>\n",
       "    <tr>\n",
       "      <th>4</th>\n",
       "      <td>18.0</td>\n",
       "      <td>0</td>\n",
       "      <td>0</td>\n",
       "      <td>0</td>\n",
       "      <td>0</td>\n",
       "      <td>0</td>\n",
       "      <td>0</td>\n",
       "      <td>0</td>\n",
       "      <td>0</td>\n",
       "      <td>1</td>\n",
       "      <td>0</td>\n",
       "      <td>0</td>\n",
       "    </tr>\n",
       "  </tbody>\n",
       "</table>\n",
       "</div>"
      ],
      "text/plain": [
       "   UnitPrice  British Isles  Eastern Asia  NSW  North America  \\\n",
       "0       18.0              1             0    0              0   \n",
       "1       18.0              0             0    0              1   \n",
       "2       18.0              0             0    0              1   \n",
       "3       18.0              0             1    0              0   \n",
       "4       18.0              0             0    0              0   \n",
       "\n",
       "   Northern Europe  Scandinavia  South America  South-East Asia  \\\n",
       "0                0            0              0                0   \n",
       "1                0            0              0                0   \n",
       "2                0            0              0                0   \n",
       "3                0            0              0                0   \n",
       "4                0            0              0                0   \n",
       "\n",
       "   Southern Europe  Victoria  Western Europe  \n",
       "0                0         0               0  \n",
       "1                0         0               0  \n",
       "2                0         0               0  \n",
       "3                0         0               0  \n",
       "4                1         0               0  "
      ]
     },
     "execution_count": 33,
     "metadata": {},
     "output_type": "execute_result"
    }
   ],
   "source": [
    "#Created dummy variables for each region\n",
    "dummies_reg = pd.get_dummies(df_Q2.Region)\n",
    "df_Q2_reg = pd.concat([df_Q2, dummies_reg], axis = 1)\n",
    "df_Q2_reg = df_Q2_reg.drop(columns=['Region'])\n",
    "df_Q2_reg.head()"
   ]
  },
  {
   "cell_type": "code",
   "execution_count": 34,
   "metadata": {
    "ExecuteTime": {
     "end_time": "2019-10-12T21:25:21.759337Z",
     "start_time": "2019-10-12T21:25:21.752317Z"
    },
    "hidden": true
   },
   "outputs": [
    {
     "data": {
      "text/plain": [
       "Index(['UnitPrice', 'British Isles', 'Eastern Asia', 'NSW', 'North America',\n",
       "       'Northern Europe', 'Scandinavia', 'South America', 'South-East Asia',\n",
       "       'Southern Europe', 'Victoria', 'Western Europe'],\n",
       "      dtype='object')"
      ]
     },
     "execution_count": 34,
     "metadata": {},
     "output_type": "execute_result"
    }
   ],
   "source": [
    "#View Columns\n",
    "df_Q2_reg.columns"
   ]
  },
  {
   "cell_type": "code",
   "execution_count": 35,
   "metadata": {
    "ExecuteTime": {
     "end_time": "2019-10-12T21:25:21.780892Z",
     "start_time": "2019-10-12T21:25:21.762825Z"
    },
    "hidden": true
   },
   "outputs": [
    {
     "data": {
      "text/html": [
       "<div>\n",
       "<style scoped>\n",
       "    .dataframe tbody tr th:only-of-type {\n",
       "        vertical-align: middle;\n",
       "    }\n",
       "\n",
       "    .dataframe tbody tr th {\n",
       "        vertical-align: top;\n",
       "    }\n",
       "\n",
       "    .dataframe thead th {\n",
       "        text-align: right;\n",
       "    }\n",
       "</style>\n",
       "<table border=\"1\" class=\"dataframe\">\n",
       "  <thead>\n",
       "    <tr style=\"text-align: right;\">\n",
       "      <th></th>\n",
       "      <th>UnitPrice</th>\n",
       "      <th>BI</th>\n",
       "      <th>EA</th>\n",
       "      <th>NSW</th>\n",
       "      <th>NA</th>\n",
       "      <th>NE</th>\n",
       "      <th>S</th>\n",
       "      <th>SA</th>\n",
       "      <th>SEA</th>\n",
       "      <th>SE</th>\n",
       "      <th>V</th>\n",
       "      <th>WE</th>\n",
       "    </tr>\n",
       "  </thead>\n",
       "  <tbody>\n",
       "    <tr>\n",
       "      <th>0</th>\n",
       "      <td>18.0</td>\n",
       "      <td>1</td>\n",
       "      <td>0</td>\n",
       "      <td>0</td>\n",
       "      <td>0</td>\n",
       "      <td>0</td>\n",
       "      <td>0</td>\n",
       "      <td>0</td>\n",
       "      <td>0</td>\n",
       "      <td>0</td>\n",
       "      <td>0</td>\n",
       "      <td>0</td>\n",
       "    </tr>\n",
       "    <tr>\n",
       "      <th>1</th>\n",
       "      <td>18.0</td>\n",
       "      <td>0</td>\n",
       "      <td>0</td>\n",
       "      <td>0</td>\n",
       "      <td>1</td>\n",
       "      <td>0</td>\n",
       "      <td>0</td>\n",
       "      <td>0</td>\n",
       "      <td>0</td>\n",
       "      <td>0</td>\n",
       "      <td>0</td>\n",
       "      <td>0</td>\n",
       "    </tr>\n",
       "    <tr>\n",
       "      <th>2</th>\n",
       "      <td>18.0</td>\n",
       "      <td>0</td>\n",
       "      <td>0</td>\n",
       "      <td>0</td>\n",
       "      <td>1</td>\n",
       "      <td>0</td>\n",
       "      <td>0</td>\n",
       "      <td>0</td>\n",
       "      <td>0</td>\n",
       "      <td>0</td>\n",
       "      <td>0</td>\n",
       "      <td>0</td>\n",
       "    </tr>\n",
       "    <tr>\n",
       "      <th>3</th>\n",
       "      <td>18.0</td>\n",
       "      <td>0</td>\n",
       "      <td>1</td>\n",
       "      <td>0</td>\n",
       "      <td>0</td>\n",
       "      <td>0</td>\n",
       "      <td>0</td>\n",
       "      <td>0</td>\n",
       "      <td>0</td>\n",
       "      <td>0</td>\n",
       "      <td>0</td>\n",
       "      <td>0</td>\n",
       "    </tr>\n",
       "    <tr>\n",
       "      <th>4</th>\n",
       "      <td>18.0</td>\n",
       "      <td>0</td>\n",
       "      <td>0</td>\n",
       "      <td>0</td>\n",
       "      <td>0</td>\n",
       "      <td>0</td>\n",
       "      <td>0</td>\n",
       "      <td>0</td>\n",
       "      <td>0</td>\n",
       "      <td>1</td>\n",
       "      <td>0</td>\n",
       "      <td>0</td>\n",
       "    </tr>\n",
       "  </tbody>\n",
       "</table>\n",
       "</div>"
      ],
      "text/plain": [
       "   UnitPrice  BI  EA  NSW  NA  NE  S  SA  SEA  SE  V  WE\n",
       "0       18.0   1   0    0   0   0  0   0    0   0  0   0\n",
       "1       18.0   0   0    0   1   0  0   0    0   0  0   0\n",
       "2       18.0   0   0    0   1   0  0   0    0   0  0   0\n",
       "3       18.0   0   1    0   0   0  0   0    0   0  0   0\n",
       "4       18.0   0   0    0   0   0  0   0    0   1  0   0"
      ]
     },
     "execution_count": 35,
     "metadata": {},
     "output_type": "execute_result"
    }
   ],
   "source": [
    "#Redefine Names\n",
    "df_Q2_reg = df_Q2_reg.rename(columns={'British Isles': 'BI', 'Eastern Asia': 'EA', \n",
    "                                      'NSW':'NSW', 'North America': 'NA',\n",
    "                                       'Northern Europe':'NE', 'Scandinavia':'S', \n",
    "                                      'South America':'SA', 'South-East Asia':'SEA',\n",
    "                                      'Southern Europe':'SE', 'Victoria':'V', \n",
    "                                      'Western Europe':'WE'})\n",
    "df_Q2_reg.head()"
   ]
  },
  {
   "cell_type": "code",
   "execution_count": 36,
   "metadata": {
    "ExecuteTime": {
     "end_time": "2019-10-12T21:25:21.916869Z",
     "start_time": "2019-10-12T21:25:21.784168Z"
    },
    "hidden": true
   },
   "outputs": [
    {
     "name": "stdout",
     "output_type": "stream",
     "text": [
      "                sum_sq      df         F    PR(>F)\n",
      "C(BI)     9.660460e+02     1.0  0.851743  0.356160\n",
      "C(EA)     9.660460e+02     1.0  0.851743  0.356160\n",
      "C(NSW)    5.075403e+02     1.0  0.447488  0.503600\n",
      "C(NA)     2.428829e+03     1.0  2.141449  0.143508\n",
      "C(NE)     1.761873e+03     1.0  1.553408  0.212764\n",
      "C(S)      9.660460e+02     1.0  0.851743  0.356160\n",
      "C(SA)     5.075403e+02     1.0  0.447488  0.503600\n",
      "C(SEA)    5.075403e+02     1.0  0.447488  0.503600\n",
      "C(SE)     1.382296e+03     1.0  1.218742  0.269727\n",
      "C(V)      5.075403e+02     1.0  0.447488  0.503600\n",
      "C(WE)     2.428829e+03     1.0  2.141449  0.143508\n",
      "Residual  2.520190e+06  2222.0       NaN       NaN\n"
     ]
    }
   ],
   "source": [
    "#Perform ANOVA test\n",
    "formula = 'UnitPrice ~ C(BI)+C(EA)+C(NSW)+C(NA)+C(NE)+C(S)+C(SA)+C(SEA)+C(SE)+C(V)+C(WE)'\n",
    "lm = ols(formula, data = df_Q2_reg).fit()\n",
    "table = sm.stats.anova_lm(lm, typ=2)\n",
    "print(table)"
   ]
  },
  {
   "cell_type": "markdown",
   "metadata": {
    "hidden": true
   },
   "source": [
    "In Conclusion: We cannot reject the null hypothesis that there is no statistically significant effect on the unit price when considering the region the supplier resides in for all regions.  \n",
    "\n",
    "Therefore, we recommend that Northwind Company does not worry about the region their suppliers as it does not seem to effect the unit price of products.  Northwind should keep or remove suppliers without having a concern of higher or lower unit priced items."
   ]
  },
  {
   "cell_type": "markdown",
   "metadata": {
    "heading_collapsed": true
   },
   "source": [
    "## Hypothesis Test #3\n",
    "Does the region customers live in have a statistically significant effect on the amount of money they spend on their orders?"
   ]
  },
  {
   "cell_type": "markdown",
   "metadata": {
    "hidden": true
   },
   "source": [
    "I will use an ANOVA test and split the data into groups by customer region"
   ]
  },
  {
   "cell_type": "markdown",
   "metadata": {
    "ExecuteTime": {
     "end_time": "2019-10-09T22:01:19.422820Z",
     "start_time": "2019-10-09T22:01:19.416435Z"
    },
    "heading_collapsed": true,
    "hidden": true
   },
   "source": [
    "### Set up null and alternative hypotheses"
   ]
  },
  {
   "cell_type": "markdown",
   "metadata": {
    "hidden": true
   },
   "source": [
    " - H0 = the region customers live in does not have a statistically significant effect on the amount of money they spend on their orders.  \n",
    " - H1 = the region customers live in does have a statistically significant effect on the amount of money they spend on their orders. "
   ]
  },
  {
   "cell_type": "markdown",
   "metadata": {
    "ExecuteTime": {
     "end_time": "2019-10-09T22:18:18.061847Z",
     "start_time": "2019-10-09T22:18:18.056845Z"
    },
    "heading_collapsed": true,
    "hidden": true
   },
   "source": [
    "### Clean and Explore Data"
   ]
  },
  {
   "cell_type": "code",
   "execution_count": 37,
   "metadata": {
    "ExecuteTime": {
     "end_time": "2019-10-12T21:25:24.010707Z",
     "start_time": "2019-10-12T21:25:23.986835Z"
    },
    "hidden": true
   },
   "outputs": [
    {
     "name": "stdout",
     "output_type": "stream",
     "text": [
      "2078\n"
     ]
    },
    {
     "data": {
      "text/html": [
       "<div>\n",
       "<style scoped>\n",
       "    .dataframe tbody tr th:only-of-type {\n",
       "        vertical-align: middle;\n",
       "    }\n",
       "\n",
       "    .dataframe tbody tr th {\n",
       "        vertical-align: top;\n",
       "    }\n",
       "\n",
       "    .dataframe thead th {\n",
       "        text-align: right;\n",
       "    }\n",
       "</style>\n",
       "<table border=\"1\" class=\"dataframe\">\n",
       "  <thead>\n",
       "    <tr style=\"text-align: right;\">\n",
       "      <th></th>\n",
       "      <th>Region</th>\n",
       "      <th>OrderId</th>\n",
       "      <th>UnitPrice</th>\n",
       "      <th>Quantity</th>\n",
       "      <th>Discount</th>\n",
       "    </tr>\n",
       "  </thead>\n",
       "  <tbody>\n",
       "    <tr>\n",
       "      <th>2073</th>\n",
       "      <td>North America</td>\n",
       "      <td>11077</td>\n",
       "      <td>33.25</td>\n",
       "      <td>2</td>\n",
       "      <td>0.03</td>\n",
       "    </tr>\n",
       "    <tr>\n",
       "      <th>2074</th>\n",
       "      <td>North America</td>\n",
       "      <td>11077</td>\n",
       "      <td>17.00</td>\n",
       "      <td>1</td>\n",
       "      <td>0.00</td>\n",
       "    </tr>\n",
       "    <tr>\n",
       "      <th>2075</th>\n",
       "      <td>North America</td>\n",
       "      <td>11077</td>\n",
       "      <td>15.00</td>\n",
       "      <td>2</td>\n",
       "      <td>0.01</td>\n",
       "    </tr>\n",
       "    <tr>\n",
       "      <th>2076</th>\n",
       "      <td>North America</td>\n",
       "      <td>11077</td>\n",
       "      <td>7.75</td>\n",
       "      <td>4</td>\n",
       "      <td>0.00</td>\n",
       "    </tr>\n",
       "    <tr>\n",
       "      <th>2077</th>\n",
       "      <td>North America</td>\n",
       "      <td>11077</td>\n",
       "      <td>13.00</td>\n",
       "      <td>2</td>\n",
       "      <td>0.00</td>\n",
       "    </tr>\n",
       "  </tbody>\n",
       "</table>\n",
       "</div>"
      ],
      "text/plain": [
       "             Region  OrderId  UnitPrice  Quantity  Discount\n",
       "2073  North America    11077      33.25         2      0.03\n",
       "2074  North America    11077      17.00         1      0.00\n",
       "2075  North America    11077      15.00         2      0.01\n",
       "2076  North America    11077       7.75         4      0.00\n",
       "2077  North America    11077      13.00         2      0.00"
      ]
     },
     "execution_count": 37,
     "metadata": {},
     "output_type": "execute_result"
    }
   ],
   "source": [
    "#The total cost can be calculated from data in the OrderDetail table\n",
    "#The region the order was shipped to can be found in the Order table\n",
    "#Set up a DataFrame for these items \n",
    "df_Q3 = sql_to_df(\"\"\"SELECT c.Region, od.OrderId, od.UnitPrice, od.Quantity, od.Discount\n",
    "                     FROM OrderDetail od\n",
    "                     JOIN 'Order' o ON o.Id = od.OrderId\n",
    "                     JOIN Customer c ON o.CustomerId = c.Id\"\"\")\n",
    "print(len(df_Q3))\n",
    "df_Q3.tail()"
   ]
  },
  {
   "cell_type": "code",
   "execution_count": 38,
   "metadata": {
    "ExecuteTime": {
     "end_time": "2019-10-12T21:25:24.027990Z",
     "start_time": "2019-10-12T21:25:24.013984Z"
    },
    "hidden": true
   },
   "outputs": [
    {
     "data": {
      "text/plain": [
       "count     2078.000000\n",
       "mean       590.941032\n",
       "std        975.399876\n",
       "min          4.800000\n",
       "25%        147.900000\n",
       "50%        340.000000\n",
       "75%        660.000000\n",
       "max      15810.000000\n",
       "Name: Cost, dtype: float64"
      ]
     },
     "execution_count": 38,
     "metadata": {},
     "output_type": "execute_result"
    }
   ],
   "source": [
    "#Create a cost column\n",
    "df_Q3['Cost'] = df_Q3.UnitPrice * df_Q3.Quantity * (1-df_Q3.Discount)\n",
    "df_Q3.Cost.describe()"
   ]
  },
  {
   "cell_type": "code",
   "execution_count": 39,
   "metadata": {
    "ExecuteTime": {
     "end_time": "2019-10-12T21:25:24.046067Z",
     "start_time": "2019-10-12T21:25:24.031771Z"
    },
    "hidden": true
   },
   "outputs": [
    {
     "data": {
      "text/html": [
       "<div>\n",
       "<style scoped>\n",
       "    .dataframe tbody tr th:only-of-type {\n",
       "        vertical-align: middle;\n",
       "    }\n",
       "\n",
       "    .dataframe tbody tr th {\n",
       "        vertical-align: top;\n",
       "    }\n",
       "\n",
       "    .dataframe thead th {\n",
       "        text-align: right;\n",
       "    }\n",
       "</style>\n",
       "<table border=\"1\" class=\"dataframe\">\n",
       "  <thead>\n",
       "    <tr style=\"text-align: right;\">\n",
       "      <th></th>\n",
       "      <th>Region</th>\n",
       "      <th>OrderId</th>\n",
       "      <th>Cost</th>\n",
       "    </tr>\n",
       "  </thead>\n",
       "  <tbody>\n",
       "    <tr>\n",
       "      <th>0</th>\n",
       "      <td>Western Europe</td>\n",
       "      <td>10248</td>\n",
       "      <td>168.0</td>\n",
       "    </tr>\n",
       "    <tr>\n",
       "      <th>1</th>\n",
       "      <td>Western Europe</td>\n",
       "      <td>10248</td>\n",
       "      <td>98.0</td>\n",
       "    </tr>\n",
       "    <tr>\n",
       "      <th>2</th>\n",
       "      <td>Western Europe</td>\n",
       "      <td>10248</td>\n",
       "      <td>174.0</td>\n",
       "    </tr>\n",
       "    <tr>\n",
       "      <th>3</th>\n",
       "      <td>Western Europe</td>\n",
       "      <td>10249</td>\n",
       "      <td>167.4</td>\n",
       "    </tr>\n",
       "    <tr>\n",
       "      <th>4</th>\n",
       "      <td>Western Europe</td>\n",
       "      <td>10249</td>\n",
       "      <td>1696.0</td>\n",
       "    </tr>\n",
       "  </tbody>\n",
       "</table>\n",
       "</div>"
      ],
      "text/plain": [
       "           Region  OrderId    Cost\n",
       "0  Western Europe    10248   168.0\n",
       "1  Western Europe    10248    98.0\n",
       "2  Western Europe    10248   174.0\n",
       "3  Western Europe    10249   167.4\n",
       "4  Western Europe    10249  1696.0"
      ]
     },
     "execution_count": 39,
     "metadata": {},
     "output_type": "execute_result"
    }
   ],
   "source": [
    "#Drop columns don't need for analysis\n",
    "df_Q3 = df_Q3.drop(columns =['UnitPrice', 'Quantity', 'Discount'], axis=1)\n",
    "df_Q3.head()"
   ]
  },
  {
   "cell_type": "code",
   "execution_count": 40,
   "metadata": {
    "ExecuteTime": {
     "end_time": "2019-10-12T21:25:24.068016Z",
     "start_time": "2019-10-12T21:25:24.048797Z"
    },
    "hidden": true
   },
   "outputs": [
    {
     "name": "stdout",
     "output_type": "stream",
     "text": [
      "801\n"
     ]
    },
    {
     "data": {
      "text/html": [
       "<div>\n",
       "<style scoped>\n",
       "    .dataframe tbody tr th:only-of-type {\n",
       "        vertical-align: middle;\n",
       "    }\n",
       "\n",
       "    .dataframe tbody tr th {\n",
       "        vertical-align: top;\n",
       "    }\n",
       "\n",
       "    .dataframe thead th {\n",
       "        text-align: right;\n",
       "    }\n",
       "</style>\n",
       "<table border=\"1\" class=\"dataframe\">\n",
       "  <thead>\n",
       "    <tr style=\"text-align: right;\">\n",
       "      <th></th>\n",
       "      <th>Region</th>\n",
       "      <th>Cost</th>\n",
       "    </tr>\n",
       "  </thead>\n",
       "  <tbody>\n",
       "    <tr>\n",
       "      <th>0</th>\n",
       "      <td>British Isles</td>\n",
       "      <td>479.4</td>\n",
       "    </tr>\n",
       "    <tr>\n",
       "      <th>1</th>\n",
       "      <td>British Isles</td>\n",
       "      <td>2645.0</td>\n",
       "    </tr>\n",
       "    <tr>\n",
       "      <th>2</th>\n",
       "      <td>British Isles</td>\n",
       "      <td>1762.0</td>\n",
       "    </tr>\n",
       "    <tr>\n",
       "      <th>3</th>\n",
       "      <td>British Isles</td>\n",
       "      <td>516.8</td>\n",
       "    </tr>\n",
       "    <tr>\n",
       "      <th>4</th>\n",
       "      <td>British Isles</td>\n",
       "      <td>240.4</td>\n",
       "    </tr>\n",
       "  </tbody>\n",
       "</table>\n",
       "</div>"
      ],
      "text/plain": [
       "          Region    Cost\n",
       "0  British Isles   479.4\n",
       "1  British Isles  2645.0\n",
       "2  British Isles  1762.0\n",
       "3  British Isles   516.8\n",
       "4  British Isles   240.4"
      ]
     },
     "execution_count": 40,
     "metadata": {},
     "output_type": "execute_result"
    }
   ],
   "source": [
    "#Group orderId's together to get total cost by order \n",
    "#drop the OrderID column since it's no longer needed\n",
    "df_Q3 = df_Q3.groupby(['Region', 'OrderId'])['Cost'].sum().reset_index()\n",
    "df_Q3 = df_Q3.drop(columns =['OrderId'], axis=1)\n",
    "print(len(df_Q3))\n",
    "df_Q3.head()"
   ]
  },
  {
   "cell_type": "code",
   "execution_count": 41,
   "metadata": {
    "ExecuteTime": {
     "end_time": "2019-10-12T21:25:24.089095Z",
     "start_time": "2019-10-12T21:25:24.069796Z"
    },
    "hidden": true
   },
   "outputs": [
    {
     "data": {
      "text/html": [
       "<div>\n",
       "<style scoped>\n",
       "    .dataframe tbody tr th:only-of-type {\n",
       "        vertical-align: middle;\n",
       "    }\n",
       "\n",
       "    .dataframe tbody tr th {\n",
       "        vertical-align: top;\n",
       "    }\n",
       "\n",
       "    .dataframe thead th {\n",
       "        text-align: right;\n",
       "    }\n",
       "</style>\n",
       "<table border=\"1\" class=\"dataframe\">\n",
       "  <thead>\n",
       "    <tr style=\"text-align: right;\">\n",
       "      <th></th>\n",
       "      <th>Cost</th>\n",
       "    </tr>\n",
       "    <tr>\n",
       "      <th>Region</th>\n",
       "      <th></th>\n",
       "    </tr>\n",
       "  </thead>\n",
       "  <tbody>\n",
       "    <tr>\n",
       "      <th>British Isles</th>\n",
       "      <td>75</td>\n",
       "    </tr>\n",
       "    <tr>\n",
       "      <th>Central and South America</th>\n",
       "      <td>148</td>\n",
       "    </tr>\n",
       "    <tr>\n",
       "      <th>North America</th>\n",
       "      <td>152</td>\n",
       "    </tr>\n",
       "    <tr>\n",
       "      <th>Northern Europe, Eastern Europe, Scandinavia</th>\n",
       "      <td>90</td>\n",
       "    </tr>\n",
       "    <tr>\n",
       "      <th>Southern Europe</th>\n",
       "      <td>64</td>\n",
       "    </tr>\n",
       "    <tr>\n",
       "      <th>Western Europe</th>\n",
       "      <td>272</td>\n",
       "    </tr>\n",
       "  </tbody>\n",
       "</table>\n",
       "</div>"
      ],
      "text/plain": [
       "                                              Cost\n",
       "Region                                            \n",
       "British Isles                                   75\n",
       "Central and South America                      148\n",
       "North America                                  152\n",
       "Northern Europe, Eastern Europe, Scandinavia    90\n",
       "Southern Europe                                 64\n",
       "Western Europe                                 272"
      ]
     },
     "execution_count": 41,
     "metadata": {},
     "output_type": "execute_result"
    }
   ],
   "source": [
    "#It makes sense to group Northern Europe and Scandinavia since Scandinavia is a region in NE\n",
    "#It makes sense to add Eastern Europe to Northern Europe\n",
    "#It makese sense to group Central and South America as well\n",
    "df_Q3.loc[(df_Q3['Region']=='Northern Europe') | (df_Q3['Region']=='Eastern Europe')\n",
    "         | (df_Q3['Region']=='Scandinavia'),'Region'] = 'Northern Europe, Eastern Europe, Scandinavia'\n",
    "df_Q3.loc[(df_Q3['Region']=='Central America') | (df_Q3['Region']=='South America'),'Region']  = 'Central and South America'\n",
    "df_Q3.groupby(['Region']).count()"
   ]
  },
  {
   "cell_type": "code",
   "execution_count": 42,
   "metadata": {
    "ExecuteTime": {
     "end_time": "2019-10-12T21:25:24.266668Z",
     "start_time": "2019-10-12T21:25:24.091640Z"
    },
    "hidden": true
   },
   "outputs": [
    {
     "data": {
      "text/plain": [
       "Text(0.5, 1.0, 'The Average Cost per Customer by Region')"
      ]
     },
     "execution_count": 42,
     "metadata": {},
     "output_type": "execute_result"
    },
    {
     "data": {
      "image/png": "[encoded data removed]",
      "text/plain": [
       "<Figure size 432x288 with 1 Axes>"
      ]
     },
     "metadata": {
      "needs_background": "light"
     },
     "output_type": "display_data"
    }
   ],
   "source": [
    "color = ['lightcoral', 'lightcoral', 'maroon', 'lightcoral', 'lightcoral', 'lightcoral']\n",
    "df_Q3.groupby(['Region'])['Cost'].mean().plot(kind='barh', color = color)\n",
    "plt.xlabel('Average Cost per Customer')\n",
    "plt.ylabel('Customer Region')\n",
    "plt.title('The Average Cost per Customer by Region')"
   ]
  },
  {
   "cell_type": "markdown",
   "metadata": {
    "hidden": true
   },
   "source": [
    "- North America followed by Western Europe spend the most on their orders compared to other regions"
   ]
  },
  {
   "cell_type": "markdown",
   "metadata": {
    "heading_collapsed": true,
    "hidden": true
   },
   "source": [
    "### Check ANOVA Test Assumptions"
   ]
  },
  {
   "cell_type": "markdown",
   "metadata": {
    "ExecuteTime": {
     "end_time": "2019-10-10T20:52:34.783680Z",
     "start_time": "2019-10-10T20:52:34.780391Z"
    },
    "heading_collapsed": true,
    "hidden": true
   },
   "source": [
    "#### Check Normality"
   ]
  },
  {
   "cell_type": "code",
   "execution_count": 43,
   "metadata": {
    "ExecuteTime": {
     "end_time": "2019-10-12T21:25:25.803097Z",
     "start_time": "2019-10-12T21:25:25.184322Z"
    },
    "hidden": true
   },
   "outputs": [
    {
     "name": "stderr",
     "output_type": "stream",
     "text": [
      "/anaconda3/envs/learn-env/lib/python3.6/site-packages/scipy/stats/stats.py:1713: FutureWarning: Using a non-tuple sequence for multidimensional indexing is deprecated; use `arr[tuple(seq)]` instead of `arr[seq]`. In the future this will be interpreted as an array index, `arr[np.array(seq)]`, which will result either in an error or a different result.\n",
      "  return np.add.reduce(sorted[indexer] * weights, axis=axis) / sumval\n"
     ]
    },
    {
     "data": {
      "image/png": "[encoded data removed]",
      "text/plain": [
       "<Figure size 576x432 with 1 Axes>"
      ]
     },
     "metadata": {
      "needs_background": "light"
     },
     "output_type": "display_data"
    }
   ],
   "source": [
    "#Check Normality\n",
    "plt.figure(figsize=(8,6))\n",
    "for region in set(df_Q3.Region):\n",
    "    region_group = df_Q3.loc[df_Q3['Region'] == region]\n",
    "    sns.distplot(region_group['Cost'], hist_kws=dict(alpha=0.2), label=region)\n",
    "    plt.legend()\n",
    "    plt.xlabel('Cost')"
   ]
  },
  {
   "cell_type": "markdown",
   "metadata": {
    "hidden": true
   },
   "source": [
    "The Data appears pretty normal, but using Levene's test I found the p-value is too low and shows un-equality of variances.  Therefore, I will transform the data to get a higher p-value and have equality of variances."
   ]
  },
  {
   "cell_type": "code",
   "execution_count": 44,
   "metadata": {
    "ExecuteTime": {
     "end_time": "2019-10-12T21:25:26.277093Z",
     "start_time": "2019-10-12T21:25:25.807433Z"
    },
    "hidden": true
   },
   "outputs": [
    {
     "name": "stderr",
     "output_type": "stream",
     "text": [
      "/anaconda3/envs/learn-env/lib/python3.6/site-packages/scipy/stats/stats.py:1713: FutureWarning: Using a non-tuple sequence for multidimensional indexing is deprecated; use `arr[tuple(seq)]` instead of `arr[seq]`. In the future this will be interpreted as an array index, `arr[np.array(seq)]`, which will result either in an error or a different result.\n",
      "  return np.add.reduce(sorted[indexer] * weights, axis=axis) / sumval\n"
     ]
    },
    {
     "data": {
      "image/png": "[encoded data removed]",
      "text/plain": [
       "<Figure size 576x360 with 1 Axes>"
      ]
     },
     "metadata": {
      "needs_background": "light"
     },
     "output_type": "display_data"
    }
   ],
   "source": [
    "df_Q3_log = df_Q3.copy()\n",
    "df_Q3_log['Cost'] = np.log(df_Q3['Cost'])\n",
    "# Plotting the distributions for the log-transformed data\n",
    "plt.figure(figsize=(8,5))\n",
    "for region in set(df_Q3_log.Region):\n",
    "    region_group = df_Q3_log.loc[df_Q3_log['Region'] == region]\n",
    "    sns.distplot(region_group['Cost'], hist_kws=dict(alpha=0.2), label=region)\n",
    "    plt.legend()\n",
    "    plt.xlabel('Cost per order (log-transformed)')"
   ]
  },
  {
   "cell_type": "markdown",
   "metadata": {
    "heading_collapsed": true,
    "hidden": true
   },
   "source": [
    "#### Check Equality of Variance"
   ]
  },
  {
   "cell_type": "code",
   "execution_count": 45,
   "metadata": {
    "ExecuteTime": {
     "end_time": "2019-10-12T21:25:26.289409Z",
     "start_time": "2019-10-12T21:25:26.280979Z"
    },
    "hidden": true
   },
   "outputs": [],
   "source": [
    "#create separate data frames for different regions\n",
    "SE_df2 = df_Q3_log[df_Q3_log.Region == 'Southern Europe']\n",
    "SA_df2 = df_Q3_log[df_Q3_log.Region == 'Central and South America']\n",
    "BI_df2 = df_Q3_log[df_Q3_log.Region == 'British Isles']\n",
    "NE_df2 = df_Q3_log[df_Q3_log.Region == 'Northern Europe, Eastern Europe, Scandinavia']\n",
    "NA_df2 = df_Q3_log[df_Q3_log.Region == 'North America']\n",
    "WE_df2 = df_Q3_log[df_Q3_log.Region == 'Western Europe']"
   ]
  },
  {
   "cell_type": "code",
   "execution_count": 46,
   "metadata": {
    "ExecuteTime": {
     "end_time": "2019-10-12T21:25:26.299231Z",
     "start_time": "2019-10-12T21:25:26.291835Z"
    },
    "hidden": true
   },
   "outputs": [
    {
     "data": {
      "text/plain": [
       "LeveneResult(statistic=1.538173302539737, pvalue=0.17548724454224485)"
      ]
     },
     "execution_count": 46,
     "metadata": {},
     "output_type": "execute_result"
    }
   ],
   "source": [
    "#Check equality of variances using the Levene test\n",
    "stat.levene(SE_df2.Cost, SA_df2.Cost, BI_df2.Cost, \n",
    "            NE_df2.Cost, NA_df2.Cost, WE_df2.Cost)"
   ]
  },
  {
   "cell_type": "markdown",
   "metadata": {
    "hidden": true
   },
   "source": [
    "Since the p-value > 0.05, the null hypothesis of equal variances is not rejected and it is concluded that there is not a difference between the variances in the population."
   ]
  },
  {
   "cell_type": "markdown",
   "metadata": {
    "heading_collapsed": true,
    "hidden": true
   },
   "source": [
    "#### Check Independence"
   ]
  },
  {
   "cell_type": "markdown",
   "metadata": {
    "hidden": true
   },
   "source": [
    "Each customer is independent from another across each region, so independence holds"
   ]
  },
  {
   "cell_type": "markdown",
   "metadata": {
    "heading_collapsed": true,
    "hidden": true
   },
   "source": [
    "### Perform ANOVA Test"
   ]
  },
  {
   "cell_type": "code",
   "execution_count": 47,
   "metadata": {
    "ExecuteTime": {
     "end_time": "2019-10-12T21:25:27.663222Z",
     "start_time": "2019-10-12T21:25:27.644934Z"
    },
    "hidden": true
   },
   "outputs": [
    {
     "data": {
      "text/html": [
       "<div>\n",
       "<style scoped>\n",
       "    .dataframe tbody tr th:only-of-type {\n",
       "        vertical-align: middle;\n",
       "    }\n",
       "\n",
       "    .dataframe tbody tr th {\n",
       "        vertical-align: top;\n",
       "    }\n",
       "\n",
       "    .dataframe thead th {\n",
       "        text-align: right;\n",
       "    }\n",
       "</style>\n",
       "<table border=\"1\" class=\"dataframe\">\n",
       "  <thead>\n",
       "    <tr style=\"text-align: right;\">\n",
       "      <th></th>\n",
       "      <th>Cost</th>\n",
       "      <th>British Isles</th>\n",
       "      <th>Central and South America</th>\n",
       "      <th>North America</th>\n",
       "      <th>Northern Europe, Eastern Europe, Scandinavia</th>\n",
       "      <th>Southern Europe</th>\n",
       "      <th>Western Europe</th>\n",
       "    </tr>\n",
       "  </thead>\n",
       "  <tbody>\n",
       "    <tr>\n",
       "      <th>0</th>\n",
       "      <td>6.172535</td>\n",
       "      <td>1</td>\n",
       "      <td>0</td>\n",
       "      <td>0</td>\n",
       "      <td>0</td>\n",
       "      <td>0</td>\n",
       "      <td>0</td>\n",
       "    </tr>\n",
       "    <tr>\n",
       "      <th>1</th>\n",
       "      <td>7.880426</td>\n",
       "      <td>1</td>\n",
       "      <td>0</td>\n",
       "      <td>0</td>\n",
       "      <td>0</td>\n",
       "      <td>0</td>\n",
       "      <td>0</td>\n",
       "    </tr>\n",
       "    <tr>\n",
       "      <th>2</th>\n",
       "      <td>7.474205</td>\n",
       "      <td>1</td>\n",
       "      <td>0</td>\n",
       "      <td>0</td>\n",
       "      <td>0</td>\n",
       "      <td>0</td>\n",
       "      <td>0</td>\n",
       "    </tr>\n",
       "    <tr>\n",
       "      <th>3</th>\n",
       "      <td>6.247656</td>\n",
       "      <td>1</td>\n",
       "      <td>0</td>\n",
       "      <td>0</td>\n",
       "      <td>0</td>\n",
       "      <td>0</td>\n",
       "      <td>0</td>\n",
       "    </tr>\n",
       "    <tr>\n",
       "      <th>4</th>\n",
       "      <td>5.482304</td>\n",
       "      <td>1</td>\n",
       "      <td>0</td>\n",
       "      <td>0</td>\n",
       "      <td>0</td>\n",
       "      <td>0</td>\n",
       "      <td>0</td>\n",
       "    </tr>\n",
       "  </tbody>\n",
       "</table>\n",
       "</div>"
      ],
      "text/plain": [
       "       Cost  British Isles  Central and South America  North America  \\\n",
       "0  6.172535              1                          0              0   \n",
       "1  7.880426              1                          0              0   \n",
       "2  7.474205              1                          0              0   \n",
       "3  6.247656              1                          0              0   \n",
       "4  5.482304              1                          0              0   \n",
       "\n",
       "   Northern Europe, Eastern Europe, Scandinavia  Southern Europe  \\\n",
       "0                                             0                0   \n",
       "1                                             0                0   \n",
       "2                                             0                0   \n",
       "3                                             0                0   \n",
       "4                                             0                0   \n",
       "\n",
       "   Western Europe  \n",
       "0               0  \n",
       "1               0  \n",
       "2               0  \n",
       "3               0  \n",
       "4               0  "
      ]
     },
     "execution_count": 47,
     "metadata": {},
     "output_type": "execute_result"
    }
   ],
   "source": [
    "#Created dummy variables for each region\n",
    "dummies_reg = pd.get_dummies(df_Q3_log.Region)\n",
    "df_Q3_reg = pd.concat([df_Q3_log, dummies_reg], axis = 1)\n",
    "df_Q3_reg = df_Q3_reg.drop(columns=['Region'])\n",
    "df_Q3_reg.head()"
   ]
  },
  {
   "cell_type": "code",
   "execution_count": 48,
   "metadata": {
    "ExecuteTime": {
     "end_time": "2019-10-12T21:25:27.681539Z",
     "start_time": "2019-10-12T21:25:27.666295Z"
    },
    "hidden": true
   },
   "outputs": [
    {
     "data": {
      "text/html": [
       "<div>\n",
       "<style scoped>\n",
       "    .dataframe tbody tr th:only-of-type {\n",
       "        vertical-align: middle;\n",
       "    }\n",
       "\n",
       "    .dataframe tbody tr th {\n",
       "        vertical-align: top;\n",
       "    }\n",
       "\n",
       "    .dataframe thead th {\n",
       "        text-align: right;\n",
       "    }\n",
       "</style>\n",
       "<table border=\"1\" class=\"dataframe\">\n",
       "  <thead>\n",
       "    <tr style=\"text-align: right;\">\n",
       "      <th></th>\n",
       "      <th>Cost</th>\n",
       "      <th>BI</th>\n",
       "      <th>CSA</th>\n",
       "      <th>NA</th>\n",
       "      <th>NES</th>\n",
       "      <th>SE</th>\n",
       "      <th>WE</th>\n",
       "    </tr>\n",
       "  </thead>\n",
       "  <tbody>\n",
       "    <tr>\n",
       "      <th>0</th>\n",
       "      <td>6.172535</td>\n",
       "      <td>1</td>\n",
       "      <td>0</td>\n",
       "      <td>0</td>\n",
       "      <td>0</td>\n",
       "      <td>0</td>\n",
       "      <td>0</td>\n",
       "    </tr>\n",
       "    <tr>\n",
       "      <th>1</th>\n",
       "      <td>7.880426</td>\n",
       "      <td>1</td>\n",
       "      <td>0</td>\n",
       "      <td>0</td>\n",
       "      <td>0</td>\n",
       "      <td>0</td>\n",
       "      <td>0</td>\n",
       "    </tr>\n",
       "    <tr>\n",
       "      <th>2</th>\n",
       "      <td>7.474205</td>\n",
       "      <td>1</td>\n",
       "      <td>0</td>\n",
       "      <td>0</td>\n",
       "      <td>0</td>\n",
       "      <td>0</td>\n",
       "      <td>0</td>\n",
       "    </tr>\n",
       "    <tr>\n",
       "      <th>3</th>\n",
       "      <td>6.247656</td>\n",
       "      <td>1</td>\n",
       "      <td>0</td>\n",
       "      <td>0</td>\n",
       "      <td>0</td>\n",
       "      <td>0</td>\n",
       "      <td>0</td>\n",
       "    </tr>\n",
       "    <tr>\n",
       "      <th>4</th>\n",
       "      <td>5.482304</td>\n",
       "      <td>1</td>\n",
       "      <td>0</td>\n",
       "      <td>0</td>\n",
       "      <td>0</td>\n",
       "      <td>0</td>\n",
       "      <td>0</td>\n",
       "    </tr>\n",
       "  </tbody>\n",
       "</table>\n",
       "</div>"
      ],
      "text/plain": [
       "       Cost  BI  CSA  NA  NES  SE  WE\n",
       "0  6.172535   1    0   0    0   0   0\n",
       "1  7.880426   1    0   0    0   0   0\n",
       "2  7.474205   1    0   0    0   0   0\n",
       "3  6.247656   1    0   0    0   0   0\n",
       "4  5.482304   1    0   0    0   0   0"
      ]
     },
     "execution_count": 48,
     "metadata": {},
     "output_type": "execute_result"
    }
   ],
   "source": [
    "#Redefine Names\n",
    "df_Q3_reg = df_Q3_reg.rename(columns={'British Isles': 'BI', 'Central and South America': 'CSA', \n",
    "                                      'North America':'NA', 'Northern Europe, Eastern Europe, Scandinavia': 'NES',\n",
    "                                      'Southern Europe':'SE', 'Western Europe':'WE'})\n",
    "df_Q3_reg.head()"
   ]
  },
  {
   "cell_type": "code",
   "execution_count": 49,
   "metadata": {
    "ExecuteTime": {
     "end_time": "2019-10-12T21:25:27.818117Z",
     "start_time": "2019-10-12T21:25:27.684044Z"
    },
    "hidden": true
   },
   "outputs": [
    {
     "name": "stdout",
     "output_type": "stream",
     "text": [
      "              sum_sq     df           F        PR(>F)\n",
      "C(BI)     108.805304    1.0   90.676360  1.976776e-20\n",
      "C(CSA)    111.535731    1.0   92.951848  7.051551e-21\n",
      "C(NA)     277.292819    1.0  231.090789  5.285052e-46\n",
      "C(NES)    106.389173    1.0   88.662801  4.933526e-20\n",
      "C(SE)       4.921002    1.0    4.101073  4.318972e-02\n",
      "C(WE)     453.096264    1.0  377.602180  4.027817e-69\n",
      "Residual  953.944520  795.0         NaN           NaN\n"
     ]
    }
   ],
   "source": [
    "#Perform ANOVA test\n",
    "formula = 'Cost ~ C(BI)+C(CSA)+C(NA)+C(NES)+C(SE)+C(WE)'\n",
    "lm = ols(formula, data = df_Q3_reg).fit()\n",
    "table2 = sm.stats.anova_lm(lm, typ=2)\n",
    "print(table2)"
   ]
  },
  {
   "cell_type": "code",
   "execution_count": 50,
   "metadata": {
    "ExecuteTime": {
     "end_time": "2019-10-12T21:25:27.840987Z",
     "start_time": "2019-10-12T21:25:27.820468Z"
    },
    "hidden": true
   },
   "outputs": [
    {
     "data": {
      "text/html": [
       "<div>\n",
       "<style scoped>\n",
       "    .dataframe tbody tr th:only-of-type {\n",
       "        vertical-align: middle;\n",
       "    }\n",
       "\n",
       "    .dataframe tbody tr th {\n",
       "        vertical-align: top;\n",
       "    }\n",
       "\n",
       "    .dataframe thead th {\n",
       "        text-align: right;\n",
       "    }\n",
       "</style>\n",
       "<table border=\"1\" class=\"dataframe\">\n",
       "  <thead>\n",
       "    <tr style=\"text-align: right;\">\n",
       "      <th></th>\n",
       "      <th>sum_sq</th>\n",
       "      <th>df</th>\n",
       "      <th>mean_sq</th>\n",
       "      <th>F</th>\n",
       "      <th>PR(&gt;F)</th>\n",
       "      <th>eta_sq</th>\n",
       "      <th>omega_sq</th>\n",
       "    </tr>\n",
       "  </thead>\n",
       "  <tbody>\n",
       "    <tr>\n",
       "      <th>C(BI)</th>\n",
       "      <td>108.805304</td>\n",
       "      <td>1.0</td>\n",
       "      <td>108.805304</td>\n",
       "      <td>90.676360</td>\n",
       "      <td>1.976776e-20</td>\n",
       "      <td>0.053971</td>\n",
       "      <td>0.053344</td>\n",
       "    </tr>\n",
       "    <tr>\n",
       "      <th>C(CSA)</th>\n",
       "      <td>111.535731</td>\n",
       "      <td>1.0</td>\n",
       "      <td>111.535731</td>\n",
       "      <td>92.951848</td>\n",
       "      <td>7.051551e-21</td>\n",
       "      <td>0.055326</td>\n",
       "      <td>0.054698</td>\n",
       "    </tr>\n",
       "    <tr>\n",
       "      <th>C(NA)</th>\n",
       "      <td>277.292819</td>\n",
       "      <td>1.0</td>\n",
       "      <td>277.292819</td>\n",
       "      <td>231.090789</td>\n",
       "      <td>5.285052e-46</td>\n",
       "      <td>0.137547</td>\n",
       "      <td>0.136870</td>\n",
       "    </tr>\n",
       "    <tr>\n",
       "      <th>C(NES)</th>\n",
       "      <td>106.389173</td>\n",
       "      <td>1.0</td>\n",
       "      <td>106.389173</td>\n",
       "      <td>88.662801</td>\n",
       "      <td>4.933526e-20</td>\n",
       "      <td>0.052773</td>\n",
       "      <td>0.052147</td>\n",
       "    </tr>\n",
       "    <tr>\n",
       "      <th>C(SE)</th>\n",
       "      <td>4.921002</td>\n",
       "      <td>1.0</td>\n",
       "      <td>4.921002</td>\n",
       "      <td>4.101073</td>\n",
       "      <td>4.318972e-02</td>\n",
       "      <td>0.002441</td>\n",
       "      <td>0.001845</td>\n",
       "    </tr>\n",
       "    <tr>\n",
       "      <th>C(WE)</th>\n",
       "      <td>453.096264</td>\n",
       "      <td>1.0</td>\n",
       "      <td>453.096264</td>\n",
       "      <td>377.602180</td>\n",
       "      <td>4.027817e-69</td>\n",
       "      <td>0.224752</td>\n",
       "      <td>0.224023</td>\n",
       "    </tr>\n",
       "    <tr>\n",
       "      <th>Residual</th>\n",
       "      <td>953.944520</td>\n",
       "      <td>795.0</td>\n",
       "      <td>1.199930</td>\n",
       "      <td>NaN</td>\n",
       "      <td>NaN</td>\n",
       "      <td>NaN</td>\n",
       "      <td>NaN</td>\n",
       "    </tr>\n",
       "  </tbody>\n",
       "</table>\n",
       "</div>"
      ],
      "text/plain": [
       "              sum_sq     df     mean_sq           F        PR(>F)    eta_sq  \\\n",
       "C(BI)     108.805304    1.0  108.805304   90.676360  1.976776e-20  0.053971   \n",
       "C(CSA)    111.535731    1.0  111.535731   92.951848  7.051551e-21  0.055326   \n",
       "C(NA)     277.292819    1.0  277.292819  231.090789  5.285052e-46  0.137547   \n",
       "C(NES)    106.389173    1.0  106.389173   88.662801  4.933526e-20  0.052773   \n",
       "C(SE)       4.921002    1.0    4.921002    4.101073  4.318972e-02  0.002441   \n",
       "C(WE)     453.096264    1.0  453.096264  377.602180  4.027817e-69  0.224752   \n",
       "Residual  953.944520  795.0    1.199930         NaN           NaN       NaN   \n",
       "\n",
       "          omega_sq  \n",
       "C(BI)     0.053344  \n",
       "C(CSA)    0.054698  \n",
       "C(NA)     0.136870  \n",
       "C(NES)    0.052147  \n",
       "C(SE)     0.001845  \n",
       "C(WE)     0.224023  \n",
       "Residual       NaN  "
      ]
     },
     "execution_count": 50,
     "metadata": {},
     "output_type": "execute_result"
    }
   ],
   "source": [
    "#Calculate omega squared effect size\n",
    "aes.anova_table(table2)"
   ]
  },
  {
   "cell_type": "markdown",
   "metadata": {
    "hidden": true
   },
   "source": [
    "It appears that each region a customer lives in has a statistical significance on the cost they spend on their orders.  Western Europe, followed by North America spend the most on the products they order, while Southern Europe spends the least.  We recommend Northwind focus their efforts more on Western Europe and North America to continue to increase your revenue and perhaps stop providing business to Southern Europe to help support these efforts."
   ]
  },
  {
   "cell_type": "markdown",
   "metadata": {},
   "source": [
    "## Hypothesis Test #4\n",
    "Is the quantity sold for Produce products and Dairy products statistically different? "
   ]
  },
  {
   "cell_type": "markdown",
   "metadata": {},
   "source": [
    "I will use Welch's t-test (a Two Sample test) and split the data into 2 groups (produce products and dairy products)"
   ]
  },
  {
   "cell_type": "markdown",
   "metadata": {},
   "source": [
    "### Set up null and alternative hypothesis"
   ]
  },
  {
   "cell_type": "markdown",
   "metadata": {},
   "source": [
    "- H0 = The mean quantity of a product in an order is the same for Dairy and Produce products\n",
    "- H1 = The mean quantity of a product in an order is not the same for Dairy and Produce products (higher or lower)"
   ]
  },
  {
   "cell_type": "markdown",
   "metadata": {},
   "source": [
    "### Clean and Explore Data"
   ]
  },
  {
   "cell_type": "code",
   "execution_count": 51,
   "metadata": {
    "ExecuteTime": {
     "end_time": "2019-10-12T21:25:30.031957Z",
     "start_time": "2019-10-12T21:25:30.014718Z"
    }
   },
   "outputs": [
    {
     "data": {
      "text/html": [
       "<div>\n",
       "<style scoped>\n",
       "    .dataframe tbody tr th:only-of-type {\n",
       "        vertical-align: middle;\n",
       "    }\n",
       "\n",
       "    .dataframe tbody tr th {\n",
       "        vertical-align: top;\n",
       "    }\n",
       "\n",
       "    .dataframe thead th {\n",
       "        text-align: right;\n",
       "    }\n",
       "</style>\n",
       "<table border=\"1\" class=\"dataframe\">\n",
       "  <thead>\n",
       "    <tr style=\"text-align: right;\">\n",
       "      <th></th>\n",
       "      <th>CategoryName</th>\n",
       "      <th>OrderId</th>\n",
       "      <th>Quantity</th>\n",
       "    </tr>\n",
       "  </thead>\n",
       "  <tbody>\n",
       "    <tr>\n",
       "      <th>0</th>\n",
       "      <td>Dairy Products</td>\n",
       "      <td>10248</td>\n",
       "      <td>12</td>\n",
       "    </tr>\n",
       "    <tr>\n",
       "      <th>1</th>\n",
       "      <td>Grains/Cereals</td>\n",
       "      <td>10248</td>\n",
       "      <td>10</td>\n",
       "    </tr>\n",
       "    <tr>\n",
       "      <th>2</th>\n",
       "      <td>Dairy Products</td>\n",
       "      <td>10248</td>\n",
       "      <td>5</td>\n",
       "    </tr>\n",
       "    <tr>\n",
       "      <th>3</th>\n",
       "      <td>Produce</td>\n",
       "      <td>10249</td>\n",
       "      <td>9</td>\n",
       "    </tr>\n",
       "    <tr>\n",
       "      <th>4</th>\n",
       "      <td>Produce</td>\n",
       "      <td>10249</td>\n",
       "      <td>40</td>\n",
       "    </tr>\n",
       "  </tbody>\n",
       "</table>\n",
       "</div>"
      ],
      "text/plain": [
       "     CategoryName  OrderId  Quantity\n",
       "0  Dairy Products    10248        12\n",
       "1  Grains/Cereals    10248        10\n",
       "2  Dairy Products    10248         5\n",
       "3         Produce    10249         9\n",
       "4         Produce    10249        40"
      ]
     },
     "execution_count": 51,
     "metadata": {},
     "output_type": "execute_result"
    }
   ],
   "source": [
    "#Select category name from the Category and Quantity from OrderDetails\n",
    "df_Q4 = sql_to_df(\"\"\"SELECT CategoryName, od.OrderId, od.Quantity\n",
    "                     FROM Category c\n",
    "                     JOIN Product p ON c.Id = p.CategoryId\n",
    "                     JOIN OrderDetail od ON od.ProductId = p.Id\"\"\")\n",
    "df_Q4.head()"
   ]
  },
  {
   "cell_type": "code",
   "execution_count": 52,
   "metadata": {
    "ExecuteTime": {
     "end_time": "2019-10-12T21:25:30.043118Z",
     "start_time": "2019-10-12T21:25:30.034384Z"
    }
   },
   "outputs": [
    {
     "data": {
      "text/plain": [
       "array(['Dairy Products', 'Grains/Cereals', 'Produce', 'Seafood',\n",
       "       'Condiments', 'Confections', 'Beverages', 'Meat/Poultry'],\n",
       "      dtype=object)"
      ]
     },
     "execution_count": 52,
     "metadata": {},
     "output_type": "execute_result"
    }
   ],
   "source": [
    "#look at unique categories\n",
    "df_Q4.CategoryName.unique()"
   ]
  },
  {
   "cell_type": "code",
   "execution_count": 53,
   "metadata": {
    "ExecuteTime": {
     "end_time": "2019-10-12T21:25:30.066017Z",
     "start_time": "2019-10-12T21:25:30.046771Z"
    }
   },
   "outputs": [
    {
     "name": "stdout",
     "output_type": "stream",
     "text": [
      "1908\n"
     ]
    },
    {
     "data": {
      "text/html": [
       "<div>\n",
       "<style scoped>\n",
       "    .dataframe tbody tr th:only-of-type {\n",
       "        vertical-align: middle;\n",
       "    }\n",
       "\n",
       "    .dataframe tbody tr th {\n",
       "        vertical-align: top;\n",
       "    }\n",
       "\n",
       "    .dataframe thead th {\n",
       "        text-align: right;\n",
       "    }\n",
       "</style>\n",
       "<table border=\"1\" class=\"dataframe\">\n",
       "  <thead>\n",
       "    <tr style=\"text-align: right;\">\n",
       "      <th></th>\n",
       "      <th>CategoryName</th>\n",
       "      <th>Quantity</th>\n",
       "    </tr>\n",
       "  </thead>\n",
       "  <tbody>\n",
       "    <tr>\n",
       "      <th>0</th>\n",
       "      <td>Beverages</td>\n",
       "      <td>42</td>\n",
       "    </tr>\n",
       "    <tr>\n",
       "      <th>1</th>\n",
       "      <td>Beverages</td>\n",
       "      <td>15</td>\n",
       "    </tr>\n",
       "    <tr>\n",
       "      <th>2</th>\n",
       "      <td>Beverages</td>\n",
       "      <td>20</td>\n",
       "    </tr>\n",
       "    <tr>\n",
       "      <th>3</th>\n",
       "      <td>Beverages</td>\n",
       "      <td>6</td>\n",
       "    </tr>\n",
       "    <tr>\n",
       "      <th>4</th>\n",
       "      <td>Beverages</td>\n",
       "      <td>50</td>\n",
       "    </tr>\n",
       "  </tbody>\n",
       "</table>\n",
       "</div>"
      ],
      "text/plain": [
       "  CategoryName  Quantity\n",
       "0    Beverages        42\n",
       "1    Beverages        15\n",
       "2    Beverages        20\n",
       "3    Beverages         6\n",
       "4    Beverages        50"
      ]
     },
     "execution_count": 53,
     "metadata": {},
     "output_type": "execute_result"
    }
   ],
   "source": [
    "#Update dataframe to combine quantities by category for each order\n",
    "df_Q4 = df_Q4.groupby(['CategoryName', 'OrderId'])['Quantity'].sum().reset_index()\n",
    "df_Q4 = df_Q4.drop(columns =['OrderId'], axis=1)\n",
    "print(len(df_Q4))\n",
    "df_Q4.head()"
   ]
  },
  {
   "cell_type": "code",
   "execution_count": 54,
   "metadata": {
    "ExecuteTime": {
     "end_time": "2019-10-12T21:25:30.239400Z",
     "start_time": "2019-10-12T21:25:30.069104Z"
    }
   },
   "outputs": [
    {
     "data": {
      "text/plain": [
       "Text(0.5, 1.0, 'Average Quantity Ordered by Product Category')"
      ]
     },
     "execution_count": 54,
     "metadata": {},
     "output_type": "execute_result"
    },
    {
     "data": {
      "image/png": "[encoded data removed]",
      "text/plain": [
       "<Figure size 432x288 with 1 Axes>"
      ]
     },
     "metadata": {
      "needs_background": "light"
     },
     "output_type": "display_data"
    }
   ],
   "source": [
    "#chart of categories by quantity ordered\n",
    "df_Q4.groupby(['CategoryName'])['Quantity'].mean().plot(kind='barh', color = 'mediumpurple')\n",
    "plt.xlabel('Average Quantity Ordered')\n",
    "plt.ylabel('Product Category')\n",
    "plt.title('Average Quantity Ordered by Product Category')"
   ]
  },
  {
   "cell_type": "markdown",
   "metadata": {},
   "source": [
    "### Check Welch's t-test Assumptions"
   ]
  },
  {
   "cell_type": "markdown",
   "metadata": {},
   "source": [
    "#### Check Normality"
   ]
  },
  {
   "cell_type": "code",
   "execution_count": 55,
   "metadata": {
    "ExecuteTime": {
     "end_time": "2019-10-12T21:25:30.849035Z",
     "start_time": "2019-10-12T21:25:30.843008Z"
    }
   },
   "outputs": [],
   "source": [
    "#split data into 2 tables\n",
    "Produce = df_Q4[df_Q4.CategoryName == 'Produce']\n",
    "Dairy = df_Q4[df_Q4.CategoryName == 'Dairy Products']"
   ]
  },
  {
   "cell_type": "code",
   "execution_count": 56,
   "metadata": {
    "ExecuteTime": {
     "end_time": "2019-10-12T21:25:30.860163Z",
     "start_time": "2019-10-12T21:25:30.852750Z"
    }
   },
   "outputs": [
    {
     "name": "stdout",
     "output_type": "stream",
     "text": [
      "23.17829457364341 30.194719471947195\n"
     ]
    }
   ],
   "source": [
    "#chart of categories by quantity ordered\n",
    "print(Produce.Quantity.mean(),Dairy.Quantity.mean())"
   ]
  },
  {
   "cell_type": "code",
   "execution_count": 57,
   "metadata": {
    "ExecuteTime": {
     "end_time": "2019-10-12T21:25:30.874107Z",
     "start_time": "2019-10-12T21:25:30.864320Z"
    }
   },
   "outputs": [
    {
     "data": {
      "text/plain": [
       "20     21\n",
       "15     10\n",
       "30      9\n",
       "10      8\n",
       "3       8\n",
       "35      5\n",
       "8       5\n",
       "50      5\n",
       "6       4\n",
       "5       4\n",
       "60      4\n",
       "2       4\n",
       "18      3\n",
       "12      3\n",
       "4       3\n",
       "28      3\n",
       "7       2\n",
       "14      2\n",
       "16      2\n",
       "21      2\n",
       "24      2\n",
       "36      2\n",
       "40      2\n",
       "42      2\n",
       "45      2\n",
       "48      2\n",
       "70      2\n",
       "90      1\n",
       "13      1\n",
       "11      1\n",
       "41      1\n",
       "9       1\n",
       "44      1\n",
       "49      1\n",
       "120     1\n",
       "Name: Quantity, dtype: int64"
      ]
     },
     "execution_count": 57,
     "metadata": {},
     "output_type": "execute_result"
    }
   ],
   "source": [
    "#check for outliers\n",
    "Produce.Quantity.value_counts()"
   ]
  },
  {
   "cell_type": "code",
   "execution_count": 58,
   "metadata": {
    "ExecuteTime": {
     "end_time": "2019-10-12T21:25:30.886617Z",
     "start_time": "2019-10-12T21:25:30.877369Z"
    }
   },
   "outputs": [
    {
     "data": {
      "text/plain": [
       "20     26\n",
       "30     26\n",
       "15     23\n",
       "10     22\n",
       "50     15\n",
       "35     14\n",
       "25     12\n",
       "40     12\n",
       "6       9\n",
       "24      9\n",
       "60      9\n",
       "4       8\n",
       "12      8\n",
       "9       7\n",
       "8       6\n",
       "100     6\n",
       "16      5\n",
       "5       5\n",
       "2       5\n",
       "65      4\n",
       "3       4\n",
       "21      4\n",
       "36      4\n",
       "1       4\n",
       "42      3\n",
       "14      3\n",
       "18      3\n",
       "55      3\n",
       "70      3\n",
       "80      3\n",
       "7       3\n",
       "27      3\n",
       "17      2\n",
       "38      2\n",
       "34      2\n",
       "44      2\n",
       "56      2\n",
       "84      2\n",
       "31      1\n",
       "77      1\n",
       "112     1\n",
       "110     1\n",
       "105     1\n",
       "96      1\n",
       "94      1\n",
       "85      1\n",
       "81      1\n",
       "62      1\n",
       "64      1\n",
       "32      1\n",
       "59      1\n",
       "52      1\n",
       "51      1\n",
       "49      1\n",
       "45      1\n",
       "130     1\n",
       "26      1\n",
       "150     1\n",
       "Name: Quantity, dtype: int64"
      ]
     },
     "execution_count": 58,
     "metadata": {},
     "output_type": "execute_result"
    }
   ],
   "source": [
    "#check for outliers\n",
    "Dairy.Quantity.value_counts()"
   ]
  },
  {
   "cell_type": "code",
   "execution_count": 59,
   "metadata": {
    "ExecuteTime": {
     "end_time": "2019-10-12T21:25:30.898534Z",
     "start_time": "2019-10-12T21:25:30.889526Z"
    }
   },
   "outputs": [],
   "source": [
    "#remove largest outliers\n",
    "Produce = Produce[Produce.Quantity != 120]\n",
    "Dairy = Dairy[Dairy.Quantity != 150]"
   ]
  },
  {
   "cell_type": "code",
   "execution_count": 60,
   "metadata": {
    "ExecuteTime": {
     "end_time": "2019-10-12T21:25:31.185389Z",
     "start_time": "2019-10-12T21:25:30.901190Z"
    }
   },
   "outputs": [
    {
     "name": "stderr",
     "output_type": "stream",
     "text": [
      "/anaconda3/envs/learn-env/lib/python3.6/site-packages/scipy/stats/stats.py:1713: FutureWarning: Using a non-tuple sequence for multidimensional indexing is deprecated; use `arr[tuple(seq)]` instead of `arr[seq]`. In the future this will be interpreted as an array index, `arr[np.array(seq)]`, which will result either in an error or a different result.\n",
      "  return np.add.reduce(sorted[indexer] * weights, axis=axis) / sumval\n"
     ]
    },
    {
     "data": {
      "text/plain": [
       "<matplotlib.legend.Legend at 0x1c210938d0>"
      ]
     },
     "execution_count": 60,
     "metadata": {},
     "output_type": "execute_result"
    },
    {
     "data": {
      "image/png": "[encoded data removed]",
      "text/plain": [
       "<Figure size 432x288 with 1 Axes>"
      ]
     },
     "metadata": {
      "needs_background": "light"
     },
     "output_type": "display_data"
    }
   ],
   "source": [
    "#Normality Check\n",
    "sns.distplot(Produce.Quantity, label = 'Produce', kde=True)\n",
    "sns.distplot(Dairy.Quantity, label = 'Dairy', kde=True)\n",
    "plt.title('Check for Normality')\n",
    "plt.legend()"
   ]
  },
  {
   "cell_type": "markdown",
   "metadata": {},
   "source": [
    "- The quantity ordered for both produce and dairy are positively skewed.  Removing the outliers has made each closer to normality"
   ]
  },
  {
   "cell_type": "markdown",
   "metadata": {},
   "source": [
    "#### Check Randomness"
   ]
  },
  {
   "cell_type": "markdown",
   "metadata": {},
   "source": [
    "Each sample is provided data and contains the entire grouping, therefore randomness holds"
   ]
  },
  {
   "cell_type": "markdown",
   "metadata": {
    "heading_collapsed": true
   },
   "source": [
    "#### Check Independence"
   ]
  },
  {
   "cell_type": "markdown",
   "metadata": {
    "hidden": true
   },
   "source": [
    "Each customer's order is independent from another's so independence holds"
   ]
  },
  {
   "cell_type": "markdown",
   "metadata": {
    "ExecuteTime": {
     "end_time": "2019-10-11T01:01:05.981787Z",
     "start_time": "2019-10-11T01:01:05.976772Z"
    }
   },
   "source": [
    "### Perform Welch's t-test"
   ]
  },
  {
   "cell_type": "code",
   "execution_count": 61,
   "metadata": {
    "ExecuteTime": {
     "end_time": "2019-10-12T21:25:33.298497Z",
     "start_time": "2019-10-12T21:25:33.291053Z"
    }
   },
   "outputs": [
    {
     "data": {
      "text/plain": [
       "LeveneResult(statistic=8.032918779198816, pvalue=0.004810894215326644)"
      ]
     },
     "execution_count": 61,
     "metadata": {},
     "output_type": "execute_result"
    }
   ],
   "source": [
    "#check inequality of variances\n",
    "stat.levene(Produce.Quantity, Dairy.Quantity)"
   ]
  },
  {
   "cell_type": "markdown",
   "metadata": {},
   "source": [
    "Since the p-value < 0.05, the null hypothesis of equal variances is rejected and it is concluded that there is a difference between the variances in the population."
   ]
  },
  {
   "cell_type": "code",
   "execution_count": 62,
   "metadata": {
    "ExecuteTime": {
     "end_time": "2019-10-12T21:25:33.691447Z",
     "start_time": "2019-10-12T21:25:33.682924Z"
    }
   },
   "outputs": [
    {
     "data": {
      "text/plain": [
       "Ttest_indResult(statistic=-3.567653694251679, pvalue=0.00041364303123735336)"
      ]
     },
     "execution_count": 62,
     "metadata": {},
     "output_type": "execute_result"
    }
   ],
   "source": [
    "#perform welch's t-test (2 tail test)\n",
    "stat.ttest_ind(Produce.Quantity, Dairy.Quantity, equal_var=False)"
   ]
  },
  {
   "cell_type": "markdown",
   "metadata": {},
   "source": [
    "Getting a p-value < alpha (0.05) (even when I divide it by 2) proves I can reject the null hypothesis.  Therefore, I can claim that the quantity sold for Produce products and Dairy products are they statistically different."
   ]
  },
  {
   "cell_type": "markdown",
   "metadata": {},
   "source": [
    "### Calculate Effect Size and Power"
   ]
  },
  {
   "cell_type": "code",
   "execution_count": 63,
   "metadata": {
    "ExecuteTime": {
     "end_time": "2019-10-12T21:25:34.471613Z",
     "start_time": "2019-10-12T21:25:34.464752Z"
    }
   },
   "outputs": [
    {
     "data": {
      "text/plain": [
       "0.33052347648588015"
      ]
     },
     "execution_count": 63,
     "metadata": {},
     "output_type": "execute_result"
    }
   ],
   "source": [
    "#calculate effect size\n",
    "produce = np.array(Produce.Quantity)\n",
    "dairy = np.array(Dairy.Quantity)\n",
    "effect_size_q4= cd.Cohen_d(dairy,produce)\n",
    "effect_size_q4"
   ]
  },
  {
   "cell_type": "markdown",
   "metadata": {},
   "source": [
    "Reviewing the effect size, it can be concluded there is a small to medium effect between produce and dairy product quantities ordered"
   ]
  },
  {
   "cell_type": "code",
   "execution_count": 64,
   "metadata": {
    "ExecuteTime": {
     "end_time": "2019-10-12T21:25:34.867411Z",
     "start_time": "2019-10-12T21:25:34.861212Z"
    }
   },
   "outputs": [
    {
     "data": {
      "text/plain": [
       "128"
      ]
     },
     "execution_count": 64,
     "metadata": {},
     "output_type": "execute_result"
    }
   ],
   "source": [
    "#check sample size for power\n",
    "len(Produce)"
   ]
  },
  {
   "cell_type": "code",
   "execution_count": 65,
   "metadata": {
    "ExecuteTime": {
     "end_time": "2019-10-12T21:25:34.886878Z",
     "start_time": "2019-10-12T21:25:34.871847Z"
    }
   },
   "outputs": [
    {
     "data": {
      "text/plain": [
       "302"
      ]
     },
     "execution_count": 65,
     "metadata": {},
     "output_type": "execute_result"
    }
   ],
   "source": [
    "#check sample size for power\n",
    "len(Dairy)"
   ]
  },
  {
   "cell_type": "code",
   "execution_count": 66,
   "metadata": {
    "ExecuteTime": {
     "end_time": "2019-10-12T21:25:34.895502Z",
     "start_time": "2019-10-12T21:25:34.889941Z"
    }
   },
   "outputs": [],
   "source": [
    "#Since sample size varies between samples, I need to take the avg of the 2 to calculate power\n",
    "#Need to include both sample sizes in the power calculation because of varying s.d. \n",
    "#varying means and distributions\n",
    "avg_size = (len(Produce) + len(Dairy))/2"
   ]
  },
  {
   "cell_type": "code",
   "execution_count": 67,
   "metadata": {
    "ExecuteTime": {
     "end_time": "2019-10-12T21:25:34.907070Z",
     "start_time": "2019-10-12T21:25:34.898417Z"
    },
    "code_folding": []
   },
   "outputs": [
    {
     "data": {
      "text/plain": [
       "0.9277555380420028"
      ]
     },
     "execution_count": 67,
     "metadata": {},
     "output_type": "execute_result"
    }
   ],
   "source": [
    "#power calculation\n",
    "power_analysis.solve_power(effect_size=effect_size_q4, alpha=.05, \n",
    "                           nobs1=avg_size)"
   ]
  },
  {
   "cell_type": "markdown",
   "metadata": {},
   "source": [
    "Having a power close to 1.0 means that the chance of having a type 2 error is low and there is a 92.8% chance I correctly detected a difference between the quantity of dairy and produce products ordered"
   ]
  },
  {
   "cell_type": "markdown",
   "metadata": {},
   "source": [
    "In conclusion: There is a statistical difference between the quantity of a product ordered when considering Dairy and Produce products.  More dairy products are sold, so if Northwind ever needs to decide between the 2 products they should probably focus their efforts more towards selling dairy products vs produce products."
   ]
  },
  {
   "cell_type": "code",
   "execution_count": null,
   "metadata": {},
   "outputs": [],
   "source": []
  }
 ],
 "metadata": {
  "kernelspec": {
   "display_name": "learn-env",
   "language": "python",
   "name": "learn-env"
  },
  "language_info": {
   "codemirror_mode": {
    "name": "ipython",
    "version": 3
   },
   "file_extension": ".py",
   "mimetype": "text/x-python",
   "name": "python",
   "nbconvert_exporter": "python",
   "pygments_lexer": "ipython3",
   "version": "3.6.6"
  },
  "toc": {
   "base_numbering": 1,
   "nav_menu": {},
   "number_sections": true,
   "sideBar": true,
   "skip_h1_title": false,
   "title_cell": "Table of Contents",
   "title_sidebar": "Contents",
   "toc_cell": true,
   "toc_position": {
    "height": "calc(100% - 180px)",
    "left": "10px",
    "top": "150px",
    "width": "271.771px"
   },
   "toc_section_display": true,
   "toc_window_display": true
  }
 },
 "nbformat": 4,
 "nbformat_minor": 2
}
